{
  "nbformat": 4,
  "nbformat_minor": 0,
  "metadata": {
    "colab": {
      "name": "lab1.ipynb",
      "provenance": [],
      "collapsed_sections": [],
      "include_colab_link": true
    },
    "kernelspec": {
      "name": "python3",
      "display_name": "Python 3"
    }
  },
  "cells": [
    {
      "cell_type": "markdown",
      "metadata": {
        "id": "view-in-github",
        "colab_type": "text"
      },
      "source": [
        "<a href=\"https://colab.research.google.com/github/unweariedsphere/ce888_2020/blob/master/lab1/lab1.ipynb\" target=\"_parent\"><img src=\"https://colab.research.google.com/assets/colab-badge.svg\" alt=\"Open In Colab\"/></a>"
      ]
    },
    {
      "cell_type": "markdown",
      "metadata": {
        "id": "u9rBYuqkfFZi",
        "colab_type": "text"
      },
      "source": [
        "## Introduction to Numerical Computing with Numpy and Matplotlib\n",
        "\n",
        "### What is Matplotlib\n",
        "\n",
        "Matplotlib is a Python 2D plotting library which produces publication quality figures in a variety of hardcopy formats and interactive environments across platforms. Matplotlib can be used in Python scripts, the Python and IPython shells, the Jupyter notebook, web application servers, and four graphical user interface toolkits. Matplotlib tries to make easy things easy and hard things possible. You can generate plots, histograms, power spectra, bar charts, errorcharts, scatterplots, etc., with just a few lines of code.\n",
        "![Ref: Javatpoint ](https://static.javatpoint.com/tutorial/matplotlib/images/matplotlib-data-visualization2.png)\n",
        "For more infomration: [Matplotlib Webpage](https://matplotlib.org/)\n",
        "\n",
        "#### Malplotlib Object Model\n",
        "\n",
        "![alt text](https://matplotlib.org/_images/anatomy1.png)"
      ]
    },
    {
      "cell_type": "markdown",
      "metadata": {
        "id": "Q2EQMEEphhQv",
        "colab_type": "text"
      },
      "source": [
        "#### Matplotlib State's Machine\n",
        "Matplotlib behaves like a state machine. Any command is applied to the current plotting area. "
      ]
    },
    {
      "cell_type": "code",
      "metadata": {
        "id": "OECaZLqAe07m",
        "colab_type": "code",
        "colab": {}
      },
      "source": [
        "import matplotlib.pyplot as plt\n",
        "import numpy as np\n",
        "\n",
        "t = np.linspace(0, 2*np.pi, 50)\n",
        "x = np.sin(t)\n",
        "y = np.cos(t)"
      ],
      "execution_count": 0,
      "outputs": []
    },
    {
      "cell_type": "code",
      "metadata": {
        "id": "eo8NGcByiCrg",
        "colab_type": "code",
        "outputId": "e3d2f187-1c0e-4658-ef8a-93e58b5b9df3",
        "colab": {
          "base_uri": "https://localhost:8080/",
          "height": 282
        }
      },
      "source": [
        "# Now create a figure\n",
        "plt.figure()\n",
        "# and plot x inside it\n",
        "plt.plot(x)"
      ],
      "execution_count": 4,
      "outputs": [
        {
          "output_type": "execute_result",
          "data": {
            "text/plain": [
              "[<matplotlib.lines.Line2D at 0x7fa890f89f60>]"
            ]
          },
          "metadata": {
            "tags": []
          },
          "execution_count": 4
        },
        {
          "output_type": "display_data",
          "data": {
            "image/png": "[encoded data removed]",
            "text/plain": [
              "<Figure size 432x288 with 1 Axes>"
            ]
          },
          "metadata": {
            "tags": []
          }
        }
      ]
    },
    {
      "cell_type": "code",
      "metadata": {
        "id": "_zB4dMJLiNaw",
        "colab_type": "code",
        "outputId": "160c100f-e143-458e-cb6e-c3726135d543",
        "colab": {
          "base_uri": "https://localhost:8080/",
          "height": 298
        }
      },
      "source": [
        "# Now create a new figure\n",
        "plt.figure()\n",
        "# and plot y inside it...\n",
        "plt.plot(y)\n",
        "# Add a title\n",
        "plt.title(\"Cos\")"
      ],
      "execution_count": 5,
      "outputs": [
        {
          "output_type": "execute_result",
          "data": {
            "text/plain": [
              "Text(0.5, 1.0, 'Cos')"
            ]
          },
          "metadata": {
            "tags": []
          },
          "execution_count": 5
        },
        {
          "output_type": "display_data",
          "data": {
            "image/png": "[encoded data removed]",
            "text/plain": [
              "<Figure size 432x288 with 1 Axes>"
            ]
          },
          "metadata": {
            "tags": []
          }
        }
      ]
    },
    {
      "cell_type": "markdown",
      "metadata": {
        "id": "EIqiAerCilvv",
        "colab_type": "text"
      },
      "source": [
        "### Line Plot"
      ]
    },
    {
      "cell_type": "code",
      "metadata": {
        "id": "Ufz8Q830ijqy",
        "colab_type": "code",
        "outputId": "f560c82b-7518-4e2a-eec5-087f22d789da",
        "colab": {
          "base_uri": "https://localhost:8080/",
          "height": 282
        }
      },
      "source": [
        "x = np.linspace(0, 2*np.pi, 50)\n",
        "y1 = np.sin(x)\n",
        "y2 = np.sin(2*x)\n",
        "plt.figure() # Create figure\n",
        "plt.plot(y1)\n",
        "plt.plot(x, y1)\n",
        "\n",
        "# red dot-dash circle\n",
        "plt.plot(x, y1, 'r')\n",
        "\n",
        "# red marker only circle\n",
        "plt.plot(x, y1, 'r-o')\n",
        "\n",
        "# clear figure then plot 2 curves\n",
        "plt.clf()\n",
        "plt.plot(x, y1, 'g-o', x, y2, 'b-+')\n",
        "plt.legend(['sin(x)','sin(2x)'])"
      ],
      "execution_count": 6,
      "outputs": [
        {
          "output_type": "execute_result",
          "data": {
            "text/plain": [
              "<matplotlib.legend.Legend at 0x7fa89099b7b8>"
            ]
          },
          "metadata": {
            "tags": []
          },
          "execution_count": 6
        },
        {
          "output_type": "display_data",
          "data": {
            "image/png": "[encoded data removed]",
            "text/plain": [
              "<Figure size 432x288 with 1 Axes>"
            ]
          },
          "metadata": {
            "tags": []
          }
        }
      ]
    },
    {
      "cell_type": "markdown",
      "metadata": {
        "id": "tEqnyiLnj-oX",
        "colab_type": "text"
      },
      "source": [
        "### Scatter Plot \n"
      ]
    },
    {
      "cell_type": "code",
      "metadata": {
        "id": "E4545t4pj8mo",
        "colab_type": "code",
        "outputId": "45f157b3-cd86-4fe1-948b-2031d5aaea3c",
        "colab": {
          "base_uri": "https://localhost:8080/",
          "height": 298
        }
      },
      "source": [
        "N = 50 # no. of points\n",
        "x = np.linspace(0, 10, N)\n",
        "#print(x)\n",
        "from numpy.random import rand\n",
        "e = rand(N)*5.0 # noise\n",
        "y1 = x + e\n",
        "areas = rand(N)*300\n",
        "plt.scatter(x, y1, s=areas)\n",
        "colors = rand(N)\n",
        "plt.scatter(x, y1, s=areas,c=colors)\n",
        "plt.colorbar()\n",
        "plt.title(\"Random scatter\")\n"
      ],
      "execution_count": 7,
      "outputs": [
        {
          "output_type": "execute_result",
          "data": {
            "text/plain": [
              "Text(0.5, 1.0, 'Random scatter')"
            ]
          },
          "metadata": {
            "tags": []
          },
          "execution_count": 7
        },
        {
          "output_type": "display_data",
          "data": {
            "image/png": "[encoded data removed]",
            "text/plain": [
              "<Figure size 432x288 with 2 Axes>"
            ]
          },
          "metadata": {
            "tags": []
          }
        }
      ]
    },
    {
      "cell_type": "markdown",
      "metadata": {
        "id": "eYKeyHYglP_r",
        "colab_type": "text"
      },
      "source": [
        "### Image Plot: Correlation Plot"
      ]
    },
    {
      "cell_type": "code",
      "metadata": {
        "id": "7mhFfKMOlYb0",
        "colab_type": "code",
        "outputId": "7709e428-a2f0-478e-b8ec-e2b5bb6513b9",
        "colab": {
          "base_uri": "https://localhost:8080/",
          "height": 354
        }
      },
      "source": [
        "# Create some data\n",
        "e1 = rand(100)\n",
        "e2 = rand(100)*2\n",
        "e3 = rand(100)*50\n",
        "e4 = rand(100)*100\n",
        "corrmatrix = np.corrcoef([e1, e2, e3, e4])\n",
        "print(corrmatrix)\n",
        "# Plot corr matrix as image\n",
        "plt.imshow(corrmatrix, cmap='GnBu')\n",
        "plt.colorbar()"
      ],
      "execution_count": 8,
      "outputs": [
        {
          "output_type": "stream",
          "text": [
            "[[ 1.         -0.0791571  -0.05832831  0.07062293]\n",
            " [-0.0791571   1.         -0.05670472 -0.13486092]\n",
            " [-0.05832831 -0.05670472  1.          0.05412518]\n",
            " [ 0.07062293 -0.13486092  0.05412518  1.        ]]\n"
          ],
          "name": "stdout"
        },
        {
          "output_type": "execute_result",
          "data": {
            "text/plain": [
              "<matplotlib.colorbar.Colorbar at 0x7fa88e0ca128>"
            ]
          },
          "metadata": {
            "tags": []
          },
          "execution_count": 8
        },
        {
          "output_type": "display_data",
          "data": {
            "image/png": "[encoded data removed]",
            "text/plain": [
              "<Figure size 432x288 with 2 Axes>"
            ]
          },
          "metadata": {
            "tags": []
          }
        }
      ]
    },
    {
      "cell_type": "markdown",
      "metadata": {
        "id": "dRmo6yZWmkt_",
        "colab_type": "text"
      },
      "source": [
        "### Multiple plots using subplot"
      ]
    },
    {
      "cell_type": "code",
      "metadata": {
        "id": "Ahcz1LKUmvPr",
        "colab_type": "code",
        "outputId": "370a39f7-6c82-46a0-b58d-de0172e364fe",
        "colab": {
          "base_uri": "https://localhost:8080/",
          "height": 282
        }
      },
      "source": [
        "t = np.linspace(0, 2*np.pi)\n",
        "x = np.sin(t)\n",
        "y = np.cos(t)\n",
        "# To divide the plotting area\n",
        "plt.subplot(2, 1, 1)\n",
        "plt.plot(x)\n",
        "# Now activate a new plot\n",
        "# area.\n",
        "plt.subplot(2, 1, 2)\n",
        "plt.plot(y)"
      ],
      "execution_count": 9,
      "outputs": [
        {
          "output_type": "execute_result",
          "data": {
            "text/plain": [
              "[<matplotlib.lines.Line2D at 0x7fa88dff42b0>]"
            ]
          },
          "metadata": {
            "tags": []
          },
          "execution_count": 9
        },
        {
          "output_type": "display_data",
          "data": {
            "image/png": "[encoded data removed]",
            "text/plain": [
              "<Figure size 432x288 with 2 Axes>"
            ]
          },
          "metadata": {
            "tags": []
          }
        }
      ]
    },
    {
      "cell_type": "markdown",
      "metadata": {
        "id": "36ev2RH0nMe2",
        "colab_type": "text"
      },
      "source": [
        "### Histogram plot"
      ]
    },
    {
      "cell_type": "code",
      "metadata": {
        "id": "lWJfHc4hnK9r",
        "colab_type": "code",
        "outputId": "d5c6ac26-29ce-428b-f8b4-b6f8a4c7e716",
        "colab": {
          "base_uri": "https://localhost:8080/",
          "height": 350
        }
      },
      "source": [
        "# Create array of data\n",
        "from numpy.random import randint\n",
        "data = randint(10000, size=(10,1000))\n",
        "# Approx norm distribution\n",
        "x = np.sum(data, axis=0)\n",
        "# Set up for stacked plots\n",
        "plt.subplot(2,1,1)\n",
        "plt.hist(x, color='r')\n",
        "# Plot cumulative dist\n",
        "plt.subplot(2,1,2)\n",
        "plt.hist(x, cumulative=True)"
      ],
      "execution_count": 10,
      "outputs": [
        {
          "output_type": "execute_result",
          "data": {
            "text/plain": [
              "(array([   2.,   21.,   81.,  227.,  445.,  693.,  877.,  961.,  995.,\n",
              "        1000.]),\n",
              " array([18961. , 24878.4, 30795.8, 36713.2, 42630.6, 48548. , 54465.4,\n",
              "        60382.8, 66300.2, 72217.6, 78135. ]),\n",
              " <a list of 10 Patch objects>)"
            ]
          },
          "metadata": {
            "tags": []
          },
          "execution_count": 10
        },
        {
          "output_type": "display_data",
          "data": {
            "image/png": "[encoded data removed]",
            "text/plain": [
              "<Figure size 432x288 with 2 Axes>"
            ]
          },
          "metadata": {
            "tags": []
          }
        }
      ]
    },
    {
      "cell_type": "markdown",
      "metadata": {
        "id": "He7rHWDrn3GO",
        "colab_type": "text"
      },
      "source": [
        "### Legend, Title, and Label Axis"
      ]
    },
    {
      "cell_type": "code",
      "metadata": {
        "id": "Nnn50-1Ln9ef",
        "colab_type": "code",
        "outputId": "f76499f4-9bd8-438f-926b-87b19c151083",
        "colab": {
          "base_uri": "https://localhost:8080/",
          "height": 282
        }
      },
      "source": [
        "# Add labels in plot command.\n",
        "plt.plot(np.sin(t), label='sin')\n",
        "plt.plot(np.cos(t), label='cos')\n",
        "plt.legend()"
      ],
      "execution_count": 11,
      "outputs": [
        {
          "output_type": "execute_result",
          "data": {
            "text/plain": [
              "<matplotlib.legend.Legend at 0x7fa88dec0a20>"
            ]
          },
          "metadata": {
            "tags": []
          },
          "execution_count": 11
        },
        {
          "output_type": "display_data",
          "data": {
            "image/png": "[encoded data removed]",
            "text/plain": [
              "<Figure size 432x288 with 1 Axes>"
            ]
          },
          "metadata": {
            "tags": []
          }
        }
      ]
    },
    {
      "cell_type": "code",
      "metadata": {
        "id": "o2QXAZ4zoI9p",
        "colab_type": "code",
        "outputId": "2dded7b7-705b-4cc7-cec6-68fc0237ca29",
        "colab": {
          "base_uri": "https://localhost:8080/",
          "height": 312
        }
      },
      "source": [
        "plt.plot(t, np.sin(t))\n",
        "plt.xlabel('radians')\n",
        "# Keywords set text properties.\n",
        "plt.ylabel('amplitude',fontsize='large')\n",
        "plt.title('Sin(x)')"
      ],
      "execution_count": 12,
      "outputs": [
        {
          "output_type": "execute_result",
          "data": {
            "text/plain": [
              "Text(0.5, 1.0, 'Sin(x)')"
            ]
          },
          "metadata": {
            "tags": []
          },
          "execution_count": 12
        },
        {
          "output_type": "display_data",
          "data": {
            "image/png": "[encoded data removed]",
            "text/plain": [
              "<Figure size 432x288 with 1 Axes>"
            ]
          },
          "metadata": {
            "tags": []
          }
        }
      ]
    },
    {
      "cell_type": "markdown",
      "metadata": {
        "id": "yRdzCbrVojNI",
        "colab_type": "text"
      },
      "source": [
        "#### Other Visualization Libraries: \n",
        "\n",
        "**Seaborn**:  Better looking, high-level, plot-based on matplotlib [Seaborn](https://seaborn.pydata.org/)\n",
        "\n",
        "**Bokeh**: D3 like visulization in web browser [Bokeh](https://github.com/bokeh/bokeh)\n"
      ]
    },
    {
      "cell_type": "markdown",
      "metadata": {
        "id": "DZz7nrjeqBVb",
        "colab_type": "text"
      },
      "source": [
        "## NumPy Array\n",
        "\n",
        "Numpy is the core library for scientific computing in Python. It provides a high-performance multidimensional array object, and tools for working with these arrays. A numpy array is a grid of values, all of the same type, and is indexed by a tuple of nonnegative integers. The number of dimensions is the rank of the array; the shape of an array is a tuple of integers giving the size of the array along each dimension.\n",
        "\n",
        "The Python core library provided Lists. A list is the Python equivalent of an array, but is resizeable and can contain elements of different types.\n",
        "\n",
        "**Why NumPy array**?\n",
        "\n",
        "Size - Numpy data structures take up less space\n",
        "Performance - they have a need for speed and are faster than lists\n",
        "Functionality - SciPy and NumPy have optimized functions such as linear algebra operations built in.\n",
        "\n",
        "\n",
        "#### Introducing NumPy Array\n",
        "\n",
        "\n"
      ]
    },
    {
      "cell_type": "code",
      "metadata": {
        "id": "APvlYZXzwdbC",
        "colab_type": "code",
        "outputId": "6d43d642-6e08-4f4e-ef3a-bc8256c5165d",
        "colab": {
          "base_uri": "https://localhost:8080/",
          "height": 34
        }
      },
      "source": [
        "import numpy as np\n",
        "\n",
        "# Simple array creation\n",
        "a = np.array([0, 1, 2, 3, 4, 5])\n",
        "print(a)"
      ],
      "execution_count": 13,
      "outputs": [
        {
          "output_type": "stream",
          "text": [
            "[0 1 2 3 4 5]\n"
          ],
          "name": "stdout"
        }
      ]
    },
    {
      "cell_type": "code",
      "metadata": {
        "id": "nNo9IyREwnDR",
        "colab_type": "code",
        "outputId": "58602ddf-d082-4871-c1f7-b84f0a318703",
        "colab": {
          "base_uri": "https://localhost:8080/",
          "height": 51
        }
      },
      "source": [
        "# Checking the type and type of elements\n",
        "print(type(a))\n",
        "print(a.dtype)"
      ],
      "execution_count": 14,
      "outputs": [
        {
          "output_type": "stream",
          "text": [
            "<class 'numpy.ndarray'>\n",
            "int64\n"
          ],
          "name": "stdout"
        }
      ]
    },
    {
      "cell_type": "code",
      "metadata": {
        "id": "V_uPUZC-xArO",
        "colab_type": "code",
        "outputId": "ac68e54f-096a-49c1-d8f7-8c82eae55f80",
        "colab": {
          "base_uri": "https://localhost:8080/",
          "height": 51
        }
      },
      "source": [
        "# Check dimensions and shape\n",
        "print(a.ndim)\n",
        "print(a.shape)"
      ],
      "execution_count": 15,
      "outputs": [
        {
          "output_type": "stream",
          "text": [
            "1\n",
            "(6,)\n"
          ],
          "name": "stdout"
        }
      ]
    },
    {
      "cell_type": "code",
      "metadata": {
        "id": "glOQteJPxL1q",
        "colab_type": "code",
        "outputId": "7e9a4aa6-b36a-4999-d901-374c8d82ab83",
        "colab": {
          "base_uri": "https://localhost:8080/",
          "height": 51
        }
      },
      "source": [
        "# Check Bytes per element and Bytes of memory use\n",
        "print(a.itemsize)\n",
        "print(a.nbytes)"
      ],
      "execution_count": 16,
      "outputs": [
        {
          "output_type": "stream",
          "text": [
            "8\n",
            "48\n"
          ],
          "name": "stdout"
        }
      ]
    },
    {
      "cell_type": "markdown",
      "metadata": {
        "id": "O7xzeIWdxy-9",
        "colab_type": "text"
      },
      "source": [
        "#### Array Operations"
      ]
    },
    {
      "cell_type": "code",
      "metadata": {
        "id": "N_aWdYftx1iL",
        "colab_type": "code",
        "outputId": "2acbf267-16c5-4d24-e8a6-e237dca34f33",
        "colab": {
          "base_uri": "https://localhost:8080/",
          "height": 85
        }
      },
      "source": [
        "a = np.array([1, 2, 3, 4])\n",
        "b = np.array([2, 3, 4, 5])\n",
        "\n",
        "print(a*b)\n",
        "print(a**b)\n",
        "print(a+b)\n",
        "print(a/b)"
      ],
      "execution_count": 17,
      "outputs": [
        {
          "output_type": "stream",
          "text": [
            "[ 2  6 12 20]\n",
            "[   1    8   81 1024]\n",
            "[3 5 7 9]\n",
            "[0.5        0.66666667 0.75       0.8       ]\n"
          ],
          "name": "stdout"
        }
      ]
    },
    {
      "cell_type": "code",
      "metadata": {
        "id": "_uA3AT0RyjPv",
        "colab_type": "code",
        "outputId": "edbab672-ddf9-4cce-d27e-af57b43e7d07",
        "colab": {
          "base_uri": "https://localhost:8080/",
          "height": 68
        }
      },
      "source": [
        "# Setting array elements\n",
        "print(a[0])\n",
        "a[0] = 10\n",
        "print(a[0])\n",
        "print(a)"
      ],
      "execution_count": 18,
      "outputs": [
        {
          "output_type": "stream",
          "text": [
            "1\n",
            "10\n",
            "[10  2  3  4]\n"
          ],
          "name": "stdout"
        }
      ]
    },
    {
      "cell_type": "code",
      "metadata": {
        "id": "a94VoeIny30D",
        "colab_type": "code",
        "outputId": "2fa9bc0f-36d6-49f6-aa4d-44ba8a2bddf2",
        "colab": {
          "base_uri": "https://localhost:8080/",
          "height": 51
        }
      },
      "source": [
        "# Multi-dimensional array\n",
        "\n",
        "a = np.array([[ 0, 1, 2, 3],\n",
        "              [10,11,12,13]])\n",
        "print(a)"
      ],
      "execution_count": 19,
      "outputs": [
        {
          "output_type": "stream",
          "text": [
            "[[ 0  1  2  3]\n",
            " [10 11 12 13]]\n"
          ],
          "name": "stdout"
        }
      ]
    },
    {
      "cell_type": "code",
      "metadata": {
        "id": "lmCwIR1jy-1Q",
        "colab_type": "code",
        "outputId": "f0c02f12-3cb5-48d4-d8e6-a995c83e2030",
        "colab": {
          "base_uri": "https://localhost:8080/",
          "height": 68
        }
      },
      "source": [
        "print(a.shape)\n",
        "print(a.size)\n",
        "print(a.ndim)"
      ],
      "execution_count": 20,
      "outputs": [
        {
          "output_type": "stream",
          "text": [
            "(2, 4)\n",
            "8\n",
            "2\n"
          ],
          "name": "stdout"
        }
      ]
    },
    {
      "cell_type": "code",
      "metadata": {
        "id": "a-xnWSjVzP0z",
        "colab_type": "code",
        "outputId": "3a325b95-fe2d-4519-be18-824126cd633e",
        "colab": {
          "base_uri": "https://localhost:8080/",
          "height": 51
        }
      },
      "source": [
        "# Get and set elements in Multi-dimensional array\n",
        "print(a[1, 3])\n",
        "a[1, 3] = -1\n",
        "print(a[1, 3])"
      ],
      "execution_count": 21,
      "outputs": [
        {
          "output_type": "stream",
          "text": [
            "13\n",
            "-1\n"
          ],
          "name": "stdout"
        }
      ]
    },
    {
      "cell_type": "code",
      "metadata": {
        "id": "ICn13beyzhLW",
        "colab_type": "code",
        "outputId": "ace16586-b7bc-45f1-f960-59345ac8f2e0",
        "colab": {
          "base_uri": "https://localhost:8080/",
          "height": 34
        }
      },
      "source": [
        "print(a[1])"
      ],
      "execution_count": 22,
      "outputs": [
        {
          "output_type": "stream",
          "text": [
            "[10 11 12 -1]\n"
          ],
          "name": "stdout"
        }
      ]
    },
    {
      "cell_type": "markdown",
      "metadata": {
        "id": "DMk5FPVD1CK0",
        "colab_type": "text"
      },
      "source": [
        "#### Slicing array\n",
        "\n",
        "![Slicing array](https://scipy-lectures.org/_images/numpy_indexing.png)"
      ]
    },
    {
      "cell_type": "code",
      "metadata": {
        "id": "s_F3padj1Pcp",
        "colab_type": "code",
        "outputId": "507b93ba-5e4e-473d-9548-521965f00a4f",
        "colab": {
          "base_uri": "https://localhost:8080/",
          "height": 153
        }
      },
      "source": [
        "# Slicing array\n",
        "print(a)\n",
        "\n",
        "# print all row and 3rd column\n",
        "print(a[:,2])\n",
        "\n",
        "# print first row and all column \n",
        "print(a[0,:])\n",
        "\n",
        "# negative indices work also\n",
        "print(a)\n",
        "print(a[:,:-2])"
      ],
      "execution_count": 23,
      "outputs": [
        {
          "output_type": "stream",
          "text": [
            "[[ 0  1  2  3]\n",
            " [10 11 12 -1]]\n",
            "[ 2 12]\n",
            "[0 1 2 3]\n",
            "[[ 0  1  2  3]\n",
            " [10 11 12 -1]]\n",
            "[[ 0  1]\n",
            " [10 11]]\n"
          ],
          "name": "stdout"
        }
      ]
    },
    {
      "cell_type": "markdown",
      "metadata": {
        "id": "6X-TO_KR1mjo",
        "colab_type": "text"
      },
      "source": [
        "## Questions to be done during the lab:\n",
        "\n",
        "1. Create a (4 x 2) integer array and print it's attributes\n",
        "\n",
        "2. Create an array of dimension (1,10) and sort it in ascending and descending order\n",
        "\n",
        "3. Convert an 1D array [1 2 3 4 5 6 7 8 9] to 2D array [[1 2 3], [4 5 6], [7 8 9]]\n",
        "\n",
        "4. Stack two arrays of any size horizontally and vertically\n",
        "\n",
        "5. Create two array of same size and find common elements\n",
        "\n",
        "6. Create a 2D array of 5 by 5 and find the min and max values from each row and each column\n",
        "\n",
        "7. Create an array of size 100 and  compute the mean, median, standard deviation. \n",
        "\n",
        "8. Normalize a 5x5 random matrix \n",
        "\n",
        "9. Consider an array of dimension (4,4,3), how to mulitply it by an array with dimensions (4,4)?\n",
        "\n"
      ]
    },
    {
      "cell_type": "markdown",
      "metadata": {
        "id": "0cQmiXOD3efv",
        "colab_type": "text"
      },
      "source": [
        "Question 1)"
      ]
    },
    {
      "cell_type": "code",
      "metadata": {
        "id": "cYNCSh5M3gY2",
        "colab_type": "code",
        "outputId": "088297d5-cc82-4d49-caf2-5fb240de14c3",
        "colab": {
          "base_uri": "https://localhost:8080/",
          "height": 85
        }
      },
      "source": [
        "import numpy as np\n",
        "print(np.asarray([[1, 2], [3, 4], [5, 6], [7, 8]]))"
      ],
      "execution_count": 24,
      "outputs": [
        {
          "output_type": "stream",
          "text": [
            "[[1 2]\n",
            " [3 4]\n",
            " [5 6]\n",
            " [7 8]]\n"
          ],
          "name": "stdout"
        }
      ]
    },
    {
      "cell_type": "markdown",
      "metadata": {
        "id": "uUtejpyt4YVc",
        "colab_type": "text"
      },
      "source": [
        "Question 2)"
      ]
    },
    {
      "cell_type": "code",
      "metadata": {
        "id": "RRY9Qgm94ZqX",
        "colab_type": "code",
        "outputId": "8ff8f32e-0135-4311-b883-a7b6de5d7b9d",
        "colab": {
          "base_uri": "https://localhost:8080/",
          "height": 119
        }
      },
      "source": [
        "np.set_printoptions(3)\n",
        "array1 = np.random.random(10)\n",
        "print(\"Unsorted Random Array:\")\n",
        "print(array1)\n",
        "array1 = np.sort(array1)\n",
        "print(\"Asc-Sorted Array:\")\n",
        "print(array1)\n",
        "array1 = np.flip(array1)\n",
        "print(\"Desc-Sorted Array\")\n",
        "print(array1)"
      ],
      "execution_count": 25,
      "outputs": [
        {
          "output_type": "stream",
          "text": [
            "Unsorted Random Array:\n",
            "[0.616 0.807 0.649 0.116 0.712 0.953 0.216 0.217 0.838 0.14 ]\n",
            "Asc-Sorted Array:\n",
            "[0.116 0.14  0.216 0.217 0.616 0.649 0.712 0.807 0.838 0.953]\n",
            "Desc-Sorted Array\n",
            "[0.953 0.838 0.807 0.712 0.649 0.616 0.217 0.216 0.14  0.116]\n"
          ],
          "name": "stdout"
        }
      ]
    },
    {
      "cell_type": "markdown",
      "metadata": {
        "id": "NgzCIHqX_UKL",
        "colab_type": "text"
      },
      "source": [
        "Question 3)"
      ]
    },
    {
      "cell_type": "code",
      "metadata": {
        "id": "YOtFHFC0_V3c",
        "colab_type": "code",
        "outputId": "45ae4a81-5232-47cf-ee96-34ce734d6691",
        "colab": {
          "base_uri": "https://localhost:8080/",
          "height": 34
        }
      },
      "source": [
        "q3Array = np.asarray([1, 2, 3, 4, 5, 6, 7, 8, 9])\n",
        "print(np.ndarray.tolist(np.asarray(np.array_split(q3Array,3))))"
      ],
      "execution_count": 26,
      "outputs": [
        {
          "output_type": "stream",
          "text": [
            "[[1, 2, 3], [4, 5, 6], [7, 8, 9]]\n"
          ],
          "name": "stdout"
        }
      ]
    },
    {
      "cell_type": "markdown",
      "metadata": {
        "id": "BvCBOmbGDSzc",
        "colab_type": "text"
      },
      "source": [
        "Question 4)"
      ]
    },
    {
      "cell_type": "code",
      "metadata": {
        "id": "xKTWHKDDDUa9",
        "colab_type": "code",
        "outputId": "f1acf924-b946-4b50-c52d-27c45882071e",
        "colab": {
          "base_uri": "https://localhost:8080/",
          "height": 119
        }
      },
      "source": [
        "print(\"Separate Arrays:\")\n",
        "arrayA = [1,2,3,4]\n",
        "arrayB = [5,6,7,8]\n",
        "\n",
        "vArray = np.vstack((arrayA,arrayB))\n",
        "hArray = np.hstack((arrayA,arrayB))\n",
        "print(\"Vertically-Stacked Array:\")\n",
        "print(vArray)\n",
        "print(\"Horizontally-Stacked Array:\")\n",
        "print(hArray)"
      ],
      "execution_count": 27,
      "outputs": [
        {
          "output_type": "stream",
          "text": [
            "Separate Arrays:\n",
            "Vertically-Stacked Array:\n",
            "[[1 2 3 4]\n",
            " [5 6 7 8]]\n",
            "Horizontally-Stacked Array:\n",
            "[1 2 3 4 5 6 7 8]\n"
          ],
          "name": "stdout"
        }
      ]
    },
    {
      "cell_type": "markdown",
      "metadata": {
        "id": "Q18vrDifFToX",
        "colab_type": "text"
      },
      "source": [
        "Question 5)"
      ]
    },
    {
      "cell_type": "code",
      "metadata": {
        "id": "q6OnWXNqFVr4",
        "colab_type": "code",
        "outputId": "8a87dea0-6df8-4449-f444-a9ad49b8fcc5",
        "colab": {
          "base_uri": "https://localhost:8080/",
          "height": 68
        }
      },
      "source": [
        "arrayA = [1,2,3,4,5,6,7,8,9]\n",
        "arrayB = [5,6,7,8,9,10,11,12,13,14,15]\n",
        "arrayC = np.intersect1d(arrayA, arrayB)\n",
        "print(arrayA)\n",
        "print(arrayB)\n",
        "print(arrayC)"
      ],
      "execution_count": 28,
      "outputs": [
        {
          "output_type": "stream",
          "text": [
            "[1, 2, 3, 4, 5, 6, 7, 8, 9]\n",
            "[5, 6, 7, 8, 9, 10, 11, 12, 13, 14, 15]\n",
            "[5 6 7 8 9]\n"
          ],
          "name": "stdout"
        }
      ]
    },
    {
      "cell_type": "markdown",
      "metadata": {
        "id": "9mN3cas-KQqY",
        "colab_type": "text"
      },
      "source": [
        "Question 6)"
      ]
    },
    {
      "cell_type": "code",
      "metadata": {
        "id": "LbyurBTPKSZ5",
        "colab_type": "code",
        "outputId": "190862f8-ab61-434f-cb4d-815475588a3b",
        "colab": {
          "base_uri": "https://localhost:8080/",
          "height": 442
        }
      },
      "source": [
        "arrayA = np.random.uniform(0,10,size=(5,5))\n",
        "print(arrayA)\n",
        "for row in arrayA:\n",
        "    print(np.max(row))\n",
        "    print(np.min(row))\n",
        "arrayA = np.transpose(arrayA)\n",
        "for row in arrayA:\n",
        "    print(np.max(row))\n",
        "    print(np.min(row))"
      ],
      "execution_count": 29,
      "outputs": [
        {
          "output_type": "stream",
          "text": [
            "[[4.68  8.851 2.314 1.934 0.55 ]\n",
            " [2.321 4.357 8.771 3.575 4.481]\n",
            " [9.975 7.843 3.282 6.073 5.733]\n",
            " [9.763 5.6   8.124 6.098 9.243]\n",
            " [4.596 2.509 4.355 2.145 0.231]]\n",
            "8.851431256702236\n",
            "0.5498341093050929\n",
            "8.770778144269215\n",
            "2.321169635325698\n",
            "9.975376287534193\n",
            "3.2824285828886013\n",
            "9.76270640405384\n",
            "5.599989539758217\n",
            "4.595508367230716\n",
            "0.2311760400861873\n",
            "9.975376287534193\n",
            "2.321169635325698\n",
            "8.851431256702236\n",
            "2.5090244334533796\n",
            "8.770778144269215\n",
            "2.313781187541084\n",
            "6.098111857477404\n",
            "1.9344965980157136\n",
            "9.243048755603047\n",
            "0.2311760400861873\n"
          ],
          "name": "stdout"
        }
      ]
    },
    {
      "cell_type": "markdown",
      "metadata": {
        "id": "igmkVLgRNtoO",
        "colab_type": "text"
      },
      "source": [
        "Question 7)"
      ]
    },
    {
      "cell_type": "code",
      "metadata": {
        "id": "TFRZT3R1NvKo",
        "colab_type": "code",
        "outputId": "26a984f5-e926-46b9-b2c7-7701025ce70f",
        "colab": {
          "base_uri": "https://localhost:8080/",
          "height": 221
        }
      },
      "source": [
        "arrayA = np.random.uniform(0,10,size=(100))\n",
        "print(arrayA)\n",
        "print(np.std(arrayA))\n",
        "print(np.mean(arrayA))\n",
        "print(np.median(arrayA))"
      ],
      "execution_count": 30,
      "outputs": [
        {
          "output_type": "stream",
          "text": [
            "[9.247 7.464 5.028 3.359 7.191 8.866 5.013 5.745 5.273 6.645 1.825 0.679\n",
            " 5.342 0.831 9.336 0.769 4.707 5.301 0.442 7.947 8.548 7.685 4.371 8.728\n",
            " 6.012 5.982 1.64  7.304 8.893 5.009 6.643 0.997 7.779 1.267 6.081 0.46\n",
            " 5.048 7.853 8.054 8.366 3.63  3.819 8.628 0.972 9.812 1.081 6.283 2.489\n",
            " 3.883 0.633 7.662 4.973 9.058 0.52  1.071 7.695 3.575 3.105 4.244 3.101\n",
            " 5.462 4.747 1.857 0.614 3.487 9.344 9.919 5.702 4.7   5.97  8.493 6.654\n",
            " 0.886 6.486 7.219 1.925 9.807 9.949 1.61  1.813 5.445 8.892 1.545 0.072\n",
            " 1.701 6.049 6.119 2.797 2.758 6.137 4.171 1.063 3.802 3.347 0.076 5.147\n",
            " 7.283 0.422 5.316 7.2  ]\n",
            "2.9008333251087217\n",
            "4.899494017586923\n",
            "5.097470641630689\n"
          ],
          "name": "stdout"
        }
      ]
    },
    {
      "cell_type": "markdown",
      "metadata": {
        "id": "wdDVEo4QOtKX",
        "colab_type": "text"
      },
      "source": [
        "Question 8)"
      ]
    },
    {
      "cell_type": "code",
      "metadata": {
        "id": "6EK_0sL3O-Wo",
        "colab_type": "code",
        "outputId": "8d1bee69-c9bd-4883-df76-4bd8bbcbe8c6",
        "colab": {
          "base_uri": "https://localhost:8080/",
          "height": 187
        }
      },
      "source": [
        "arrayA = np.random.uniform(0,100,size=(5,5))\n",
        "print(arrayA)\n",
        "maxval = np.max(arrayA)\n",
        "scalefactor = 1 / maxval\n",
        "arrayA = arrayA * scalefactor\n",
        "print(arrayA)"
      ],
      "execution_count": 31,
      "outputs": [
        {
          "output_type": "stream",
          "text": [
            "[[ 8.484 35.418 67.135 10.257 62.377]\n",
            " [63.03  82.728 83.008 83.898 83.485]\n",
            " [38.671 60.082 73.011  2.96  45.659]\n",
            " [18.985 34.975 41.776 34.437 78.902]\n",
            " [40.552 20.082 57.276 48.983 13.435]]\n",
            "[[0.101 0.422 0.8   0.122 0.743]\n",
            " [0.751 0.986 0.989 1.    0.995]\n",
            " [0.461 0.716 0.87  0.035 0.544]\n",
            " [0.226 0.417 0.498 0.41  0.94 ]\n",
            " [0.483 0.239 0.683 0.584 0.16 ]]\n"
          ],
          "name": "stdout"
        }
      ]
    },
    {
      "cell_type": "markdown",
      "metadata": {
        "id": "4GKMczGaARaT",
        "colab_type": "text"
      },
      "source": [
        "Question 9)"
      ]
    },
    {
      "cell_type": "code",
      "metadata": {
        "id": "dnlW0k9JATnM",
        "colab_type": "code",
        "colab": {
          "base_uri": "https://localhost:8080/",
          "height": 340
        },
        "outputId": "2e61ea9a-7237-49fd-c923-7c22e3261af3"
      },
      "source": [
        "x = np.random.random(size=(4,4))\n",
        "y = np.random.random(size=(4,4,3))\n",
        "#duplicate content of x three times to get the correct shape\n",
        "z = y * np.transpose(np.array([x,]*3))\n",
        "print(z)"
      ],
      "execution_count": 39,
      "outputs": [
        {
          "output_type": "stream",
          "text": [
            "[[[0.086 0.194 0.188]\n",
            "  [0.333 0.282 0.118]\n",
            "  [0.347 0.526 0.102]\n",
            "  [0.536 0.479 0.301]]\n",
            "\n",
            " [[0.173 0.095 0.34 ]\n",
            "  [0.033 0.117 0.023]\n",
            "  [0.076 0.123 0.122]\n",
            "  [0.321 0.392 0.807]]\n",
            "\n",
            " [[0.367 0.104 0.27 ]\n",
            "  [0.599 0.188 0.293]\n",
            "  [0.127 0.11  0.216]\n",
            "  [0.236 0.224 0.214]]\n",
            "\n",
            " [[0.31  0.367 0.363]\n",
            "  [0.725 0.456 0.574]\n",
            "  [0.605 0.595 0.889]\n",
            "  [0.077 0.436 0.122]]]\n"
          ],
          "name": "stdout"
        }
      ]
    }
  ]
}