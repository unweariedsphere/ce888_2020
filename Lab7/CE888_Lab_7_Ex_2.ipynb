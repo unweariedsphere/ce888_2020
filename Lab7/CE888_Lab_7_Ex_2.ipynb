{
  "nbformat": 4,
  "nbformat_minor": 0,
  "metadata": {
    "colab": {
      "name": "CE888 Lab 7 Ex 2.ipynb",
      "provenance": []
    },
    "kernelspec": {
      "name": "python3",
      "display_name": "Python 3"
    },
    "accelerator": "GPU"
  },
  "cells": [
    {
      "cell_type": "markdown",
      "metadata": {
        "id": "qTh9DiKVslsJ",
        "colab_type": "text"
      },
      "source": [
        "## Dogs vs. Cats \n",
        "\n",
        "In this competition, you'll write an algorithm to classify whether images contain either a dog or a cat.  This is easy for humans, dogs, and cats. Your computer will find it a bit more difficult.\n",
        "\n",
        "![alt text](https://miro.medium.com/max/3000/1*bhFifratH9DjKqMBTeQG5A.gif)\n",
        "\n",
        "Ref: https://medium.com/@thegrigorian/rolling-in-the-deep-cnn-c8d3f7108c8c"
      ]
    },
    {
      "cell_type": "code",
      "metadata": {
        "id": "YmXSOc0tZIGA",
        "colab_type": "code",
        "outputId": "28264b27-3de0-46ec-b8c7-a9b40d213ccd",
        "colab": {
          "base_uri": "https://localhost:8080/",
          "height": 85
        }
      },
      "source": [
        "import os\n",
        "os.environ['KAGGLE_USERNAME'] = \"jc16357\" # username from the json file\n",
        "os.environ['KAGGLE_KEY'] = \"12db5ebe29714aa53d09cc1e982c4958\" # key from the json file\n",
        "!kaggle competitions download -c dogs-vs-cats # api copied from kaggle"
      ],
      "execution_count": 0,
      "outputs": [
        {
          "output_type": "stream",
          "text": [
            "Warning: Looks like you're using an outdated API Version, please consider updating (server 1.5.6 / client 1.5.4)\n",
            "sampleSubmission.csv: Skipping, found more recently modified local copy (use --force to force download)\n",
            "test1.zip: Skipping, found more recently modified local copy (use --force to force download)\n",
            "train.zip: Skipping, found more recently modified local copy (use --force to force download)\n"
          ],
          "name": "stdout"
        }
      ]
    },
    {
      "cell_type": "code",
      "metadata": {
        "id": "PiwIL8d1n7eS",
        "colab_type": "code",
        "outputId": "fea7b0d6-9199-4cc1-a59a-e9ecf1f88344",
        "colab": {
          "base_uri": "https://localhost:8080/",
          "height": 34
        }
      },
      "source": [
        "# Upload data\n",
        "from zipfile import ZipFile\n",
        "\n",
        "file_name = \"/content/train.zip\"\n",
        "\n",
        "with ZipFile(file_name, 'r') as zip:\n",
        "  zip.extractall()\n",
        "  print('done')"
      ],
      "execution_count": 0,
      "outputs": [
        {
          "output_type": "stream",
          "text": [
            "done\n"
          ],
          "name": "stdout"
        }
      ]
    },
    {
      "cell_type": "code",
      "metadata": {
        "id": "sa2Bj5i7pPKV",
        "colab_type": "code",
        "outputId": "296fb9bc-37f3-4680-e51c-dfa8da9bab33",
        "colab": {
          "base_uri": "https://localhost:8080/",
          "height": 34
        }
      },
      "source": [
        "data_dir_list = os.listdir('/content/train')\n",
        "#print(data_dir_list)\n",
        "\n",
        "path, dirs, files = next(os.walk(\"/content/train\"))\n",
        "file_count = len(files)\n",
        "print(file_count)"
      ],
      "execution_count": 0,
      "outputs": [
        {
          "output_type": "stream",
          "text": [
            "25000\n"
          ],
          "name": "stdout"
        }
      ]
    },
    {
      "cell_type": "code",
      "metadata": {
        "id": "0ERlHkfHqpK8",
        "colab_type": "code",
        "colab": {}
      },
      "source": [
        "original_dataset_dir = '/content/train'\n",
        "base_dir = '/content/cats_and_dogs_small'\n",
        "os.mkdir(base_dir)"
      ],
      "execution_count": 0,
      "outputs": []
    },
    {
      "cell_type": "code",
      "metadata": {
        "id": "AANB1UJ6rQhM",
        "colab_type": "code",
        "colab": {}
      },
      "source": [
        "train_dir = os.path.join(base_dir, 'train')\n",
        "os.mkdir(train_dir)\n",
        "\n",
        "validation_dir = os.path.join(base_dir, 'validation')\n",
        "os.mkdir(validation_dir)\n",
        "\n",
        "test_dir = os.path.join(base_dir, 'test')\n",
        "os.mkdir(test_dir)\n",
        "\n",
        "train_cats_dir = os.path.join(train_dir, 'cats')\n",
        "os.mkdir(train_cats_dir)\n",
        "\n",
        "train_dogs_dir = os.path.join(train_dir, 'dogs')\n",
        "os.mkdir(train_dogs_dir)\n",
        "\n",
        "validation_cats_dir = os.path.join(validation_dir, 'cats')\n",
        "os.mkdir(validation_cats_dir)\n",
        "\n",
        "validation_dogs_dir = os.path.join(validation_dir, 'dogs')\n",
        "os.mkdir(validation_dogs_dir)\n",
        "\n",
        "test_cats_dir = os.path.join(test_dir, 'cats')\n",
        "os.mkdir(test_cats_dir)\n",
        "\n",
        "test_dogs_dir = os.path.join(test_dir, 'dogs')\n",
        "os.mkdir(test_dogs_dir)"
      ],
      "execution_count": 0,
      "outputs": []
    },
    {
      "cell_type": "code",
      "metadata": {
        "id": "ULRgL9s9rV8T",
        "colab_type": "code",
        "colab": {}
      },
      "source": [
        "import shutil\n",
        "fnames = ['cat.{}.jpg'.format(i) for i in range(1000)]\n",
        "for fname in fnames:\n",
        "    src = os.path.join(original_dataset_dir, fname)\n",
        "    dst = os.path.join(train_cats_dir, fname)\n",
        "    #print(src,dst)\n",
        "    shutil.copyfile(src, dst)\n",
        "    \n",
        "fnames = ['cat.{}.jpg'.format(i) for i in range(1000, 1500)]\n",
        "for fname in fnames:\n",
        "    src = os.path.join(original_dataset_dir, fname)\n",
        "    dst = os.path.join(validation_cats_dir, fname)\n",
        "    shutil.copyfile(src, dst)\n",
        "\n",
        "fnames = ['cat.{}.jpg'.format(i) for i in range(1500, 2000)]\n",
        "for fname in fnames:\n",
        "    src = os.path.join(original_dataset_dir, fname)\n",
        "    dst = os.path.join(test_cats_dir, fname)\n",
        "    shutil.copyfile(src, dst)\n",
        "    \n",
        "fnames = ['dog.{}.jpg'.format(i) for i in range(1000)]\n",
        "for fname in fnames:\n",
        "    src = os.path.join(original_dataset_dir, fname)\n",
        "    dst = os.path.join(train_dogs_dir, fname)\n",
        "    shutil.copyfile(src, dst)\n",
        "\n",
        "fnames = ['dog.{}.jpg'.format(i) for i in range(1000, 1500)]\n",
        "for fname in fnames:\n",
        "    src = os.path.join(original_dataset_dir, fname)\n",
        "    dst = os.path.join(validation_dogs_dir, fname)\n",
        "    shutil.copyfile(src, dst)\n",
        "\n",
        "fnames = ['dog.{}.jpg'.format(i) for i in range(1500, 2000)]\n",
        "for fname in fnames:\n",
        "    src = os.path.join(original_dataset_dir, fname)\n",
        "    dst = os.path.join(test_dogs_dir, fname)\n",
        "    shutil.copyfile(src, dst)"
      ],
      "execution_count": 0,
      "outputs": []
    },
    {
      "cell_type": "code",
      "metadata": {
        "id": "ul3XAbIyr7vC",
        "colab_type": "code",
        "outputId": "8f4fad0e-39ee-4649-b173-035846df491e",
        "colab": {
          "base_uri": "https://localhost:8080/",
          "height": 119
        }
      },
      "source": [
        "print('total training cat images:', len(os.listdir(train_cats_dir)))\n",
        "print('total training dog images:', len(os.listdir(train_dogs_dir)))\n",
        "print('total validation cat images:', len(os.listdir(validation_cats_dir)))\n",
        "\n",
        "print('total validation dog images:', len(os.listdir(validation_dogs_dir)))\n",
        "print('total test cat images:', len(os.listdir(test_cats_dir)))\n",
        "print('total test dog images:', len(os.listdir(test_dogs_dir)))"
      ],
      "execution_count": 0,
      "outputs": [
        {
          "output_type": "stream",
          "text": [
            "total training cat images: 1000\n",
            "total training dog images: 1000\n",
            "total validation cat images: 500\n",
            "total validation dog images: 500\n",
            "total test cat images: 500\n",
            "total test dog images: 500\n"
          ],
          "name": "stdout"
        }
      ]
    },
    {
      "cell_type": "code",
      "metadata": {
        "id": "o9yTA21_r-ma",
        "colab_type": "code",
        "outputId": "ced37e19-0a56-4191-9dd2-6c79a2675014",
        "colab": {
          "base_uri": "https://localhost:8080/",
          "height": 726
        }
      },
      "source": [
        "from keras import layers\n",
        "from keras import models\n",
        "\n",
        "model = models.Sequential()\n",
        "model.add(layers.Conv2D(32, (3, 3), activation='relu', input_shape=(150, 150, 3)))\n",
        "model.add(layers.MaxPooling2D((2, 2)))\n",
        "model.add(layers.Conv2D(64, (3, 3), activation='relu'))\n",
        "model.add(layers.MaxPooling2D((2, 2)))\n",
        "model.add(layers.Conv2D(128, (3, 3), activation='relu'))\n",
        "model.add(layers.MaxPooling2D((2, 2)))\n",
        "model.add(layers.Conv2D(128, (3, 3), activation='relu'))\n",
        "model.add(layers.MaxPooling2D((2, 2)))\n",
        "model.add(layers.Flatten())\n",
        "model.add(layers.Dense(512, activation='relu'))\n",
        "model.add(layers.Dense(1, activation='sigmoid'))\n",
        "model.summary()"
      ],
      "execution_count": 0,
      "outputs": [
        {
          "output_type": "stream",
          "text": [
            "Using TensorFlow backend.\n"
          ],
          "name": "stderr"
        },
        {
          "output_type": "display_data",
          "data": {
            "text/html": [
              "<p style=\"color: red;\">\n",
              "The default version of TensorFlow in Colab will soon switch to TensorFlow 2.x.<br>\n",
              "We recommend you <a href=\"https://www.tensorflow.org/guide/migrate\" target=\"_blank\">upgrade</a> now \n",
              "or ensure your notebook will continue to use TensorFlow 1.x via the <code>%tensorflow_version 1.x</code> magic:\n",
              "<a href=\"https://colab.research.google.com/notebooks/tensorflow_version.ipynb\" target=\"_blank\">more info</a>.</p>\n"
            ],
            "text/plain": [
              "<IPython.core.display.HTML object>"
            ]
          },
          "metadata": {
            "tags": []
          }
        },
        {
          "output_type": "stream",
          "text": [
            "WARNING:tensorflow:From /usr/local/lib/python3.6/dist-packages/keras/backend/tensorflow_backend.py:66: The name tf.get_default_graph is deprecated. Please use tf.compat.v1.get_default_graph instead.\n",
            "\n",
            "WARNING:tensorflow:From /usr/local/lib/python3.6/dist-packages/keras/backend/tensorflow_backend.py:541: The name tf.placeholder is deprecated. Please use tf.compat.v1.placeholder instead.\n",
            "\n",
            "WARNING:tensorflow:From /usr/local/lib/python3.6/dist-packages/keras/backend/tensorflow_backend.py:4432: The name tf.random_uniform is deprecated. Please use tf.random.uniform instead.\n",
            "\n",
            "WARNING:tensorflow:From /usr/local/lib/python3.6/dist-packages/keras/backend/tensorflow_backend.py:4267: The name tf.nn.max_pool is deprecated. Please use tf.nn.max_pool2d instead.\n",
            "\n",
            "Model: \"sequential_1\"\n",
            "_________________________________________________________________\n",
            "Layer (type)                 Output Shape              Param #   \n",
            "=================================================================\n",
            "conv2d_1 (Conv2D)            (None, 148, 148, 32)      896       \n",
            "_________________________________________________________________\n",
            "max_pooling2d_1 (MaxPooling2 (None, 74, 74, 32)        0         \n",
            "_________________________________________________________________\n",
            "conv2d_2 (Conv2D)            (None, 72, 72, 64)        18496     \n",
            "_________________________________________________________________\n",
            "max_pooling2d_2 (MaxPooling2 (None, 36, 36, 64)        0         \n",
            "_________________________________________________________________\n",
            "conv2d_3 (Conv2D)            (None, 34, 34, 128)       73856     \n",
            "_________________________________________________________________\n",
            "max_pooling2d_3 (MaxPooling2 (None, 17, 17, 128)       0         \n",
            "_________________________________________________________________\n",
            "conv2d_4 (Conv2D)            (None, 15, 15, 128)       147584    \n",
            "_________________________________________________________________\n",
            "max_pooling2d_4 (MaxPooling2 (None, 7, 7, 128)         0         \n",
            "_________________________________________________________________\n",
            "flatten_1 (Flatten)          (None, 6272)              0         \n",
            "_________________________________________________________________\n",
            "dense_1 (Dense)              (None, 512)               3211776   \n",
            "_________________________________________________________________\n",
            "dense_2 (Dense)              (None, 1)                 513       \n",
            "=================================================================\n",
            "Total params: 3,453,121\n",
            "Trainable params: 3,453,121\n",
            "Non-trainable params: 0\n",
            "_________________________________________________________________\n"
          ],
          "name": "stdout"
        }
      ]
    },
    {
      "cell_type": "code",
      "metadata": {
        "id": "2mG8wekxsBVS",
        "colab_type": "code",
        "outputId": "1bbba4d7-7b7b-456c-9eb0-8f2e61c693c1",
        "colab": {
          "base_uri": "https://localhost:8080/",
          "height": 136
        }
      },
      "source": [
        "from keras import optimizers\n",
        "model.compile(loss='binary_crossentropy', \n",
        "              optimizer=optimizers.RMSprop(lr=1e-4),\n",
        "              metrics=['acc'])"
      ],
      "execution_count": 0,
      "outputs": [
        {
          "output_type": "stream",
          "text": [
            "WARNING:tensorflow:From /usr/local/lib/python3.6/dist-packages/keras/optimizers.py:793: The name tf.train.Optimizer is deprecated. Please use tf.compat.v1.train.Optimizer instead.\n",
            "\n",
            "WARNING:tensorflow:From /usr/local/lib/python3.6/dist-packages/keras/backend/tensorflow_backend.py:3657: The name tf.log is deprecated. Please use tf.math.log instead.\n",
            "\n",
            "WARNING:tensorflow:From /usr/local/lib/python3.6/dist-packages/tensorflow_core/python/ops/nn_impl.py:183: where (from tensorflow.python.ops.array_ops) is deprecated and will be removed in a future version.\n",
            "Instructions for updating:\n",
            "Use tf.where in 2.0, which has the same broadcast rule as np.where\n"
          ],
          "name": "stdout"
        }
      ]
    },
    {
      "cell_type": "markdown",
      "metadata": {
        "id": "7zS4Klm8qWp6",
        "colab_type": "text"
      },
      "source": [
        "## Using ImageDataGenerator to read images from directories\n",
        "As you know by now, data should be formatted into appropriately preprocessed floatingpoint tensors before being fed into the network. Currently, the data sits on a drive as JPEG files, so the steps for getting it into the network are roughly as follows:\n",
        "\n",
        "* Read the picture files.\n",
        "* Decode the JPEG content to RGB grids of pixels.\n",
        "* Convert these into floating-point tensors.\n",
        "* Rescale the pixel values (between 0 and 255) to the [0, 1] interval (as you know, neural networks prefer to deal with small input values).\n",
        "\n",
        "It may seem a bit daunting, but fortunately Keras has utilities to take care of these steps automatically. Keras has a module with image-processing helper tools, located at keras.preprocessing.image. In particular, it contains the class ImageDataGenerator,which lets you quickly set up Python generators that can automatically turn image files on disk into batches of preprocessed tensors."
      ]
    },
    {
      "cell_type": "code",
      "metadata": {
        "id": "XJ7XU7t9sEh6",
        "colab_type": "code",
        "outputId": "01e4a79c-38f1-4829-e68d-3d8da50d0d2a",
        "colab": {
          "base_uri": "https://localhost:8080/",
          "height": 51
        }
      },
      "source": [
        "from keras.preprocessing.image import ImageDataGenerator\n",
        "\n",
        "train_datagen = ImageDataGenerator(rescale=1./255)\n",
        "test_datagen = ImageDataGenerator(rescale=1./255)\n",
        "\n",
        "train_generator = train_datagen.flow_from_directory(train_dir,\n",
        "                                                    target_size=(150, 150), \n",
        "                                                    batch_size=20,\n",
        "                                                    class_mode='binary')\n",
        "\n",
        "validation_generator = test_datagen.flow_from_directory(validation_dir,\n",
        "                                                        target_size=(150, 150),\n",
        "                                                        batch_size=20,\n",
        "                                                        class_mode='binary')"
      ],
      "execution_count": 0,
      "outputs": [
        {
          "output_type": "stream",
          "text": [
            "Found 2000 images belonging to 2 classes.\n",
            "Found 1000 images belonging to 2 classes.\n"
          ],
          "name": "stdout"
        }
      ]
    },
    {
      "cell_type": "markdown",
      "metadata": {
        "id": "SEgLywySqm4u",
        "colab_type": "text"
      },
      "source": [
        "Let’s fit the model to the data using the generator. You do so using the fit_generator method, the equivalent of fit for data generators like this one. It expects as its first argument a Python generator that will yield batches of inputs and targets indefinitely,like this one does. Because the data is being generated endlessly, the Keras model needs to know how many samples to draw from the generator before declaring anepoch over. This is the role of the `steps_per_epoch` argument: after having drawn `steps_per_epoch` batches from the generator—that is, after having run for `steps_per_epoch` gradient descent steps—the fitting process will go to the next epoch. In this case, batches are 20 samples, so it will take 100 batches until you see your target of 2,000 samples.\n",
        "\n",
        "When using fit_generator, you can pass a validation_data argument, much as with the fit method. It’s important to note that this argument is allowed to be a data generator, but it could also be a tuple of Numpy arrays. If you pass a generator as validation_data, then this generator is expected to yield batches of validation data endlessly; thus you should also specify the validation_steps argument, which tells the process how many batches to draw from the validation generator for evaluation."
      ]
    },
    {
      "cell_type": "code",
      "metadata": {
        "id": "yMyfPphJsJG6",
        "colab_type": "code",
        "outputId": "4cde9d93-2b14-4087-fc9c-6d5fc94542e2",
        "colab": {
          "base_uri": "https://localhost:8080/",
          "height": 1000
        }
      },
      "source": [
        "history = model.fit_generator(train_generator,\n",
        "                              steps_per_epoch=100,\n",
        "                              epochs=30,\n",
        "                              validation_data=validation_generator,\n",
        "                              validation_steps=10)"
      ],
      "execution_count": 0,
      "outputs": [
        {
          "output_type": "stream",
          "text": [
            "WARNING:tensorflow:From /usr/local/lib/python3.6/dist-packages/keras/backend/tensorflow_backend.py:1033: The name tf.assign_add is deprecated. Please use tf.compat.v1.assign_add instead.\n",
            "\n",
            "WARNING:tensorflow:From /usr/local/lib/python3.6/dist-packages/keras/backend/tensorflow_backend.py:1020: The name tf.assign is deprecated. Please use tf.compat.v1.assign instead.\n",
            "\n",
            "WARNING:tensorflow:From /usr/local/lib/python3.6/dist-packages/keras/backend/tensorflow_backend.py:3005: The name tf.Session is deprecated. Please use tf.compat.v1.Session instead.\n",
            "\n",
            "Epoch 1/30\n",
            "WARNING:tensorflow:From /usr/local/lib/python3.6/dist-packages/keras/backend/tensorflow_backend.py:190: The name tf.get_default_session is deprecated. Please use tf.compat.v1.get_default_session instead.\n",
            "\n",
            "WARNING:tensorflow:From /usr/local/lib/python3.6/dist-packages/keras/backend/tensorflow_backend.py:197: The name tf.ConfigProto is deprecated. Please use tf.compat.v1.ConfigProto instead.\n",
            "\n",
            "WARNING:tensorflow:From /usr/local/lib/python3.6/dist-packages/keras/backend/tensorflow_backend.py:207: The name tf.global_variables is deprecated. Please use tf.compat.v1.global_variables instead.\n",
            "\n",
            "WARNING:tensorflow:From /usr/local/lib/python3.6/dist-packages/keras/backend/tensorflow_backend.py:216: The name tf.is_variable_initialized is deprecated. Please use tf.compat.v1.is_variable_initialized instead.\n",
            "\n",
            "WARNING:tensorflow:From /usr/local/lib/python3.6/dist-packages/keras/backend/tensorflow_backend.py:223: The name tf.variables_initializer is deprecated. Please use tf.compat.v1.variables_initializer instead.\n",
            "\n",
            "100/100 [==============================] - 20s 196ms/step - loss: 0.6924 - acc: 0.5165 - val_loss: 0.6735 - val_acc: 0.6300\n",
            "Epoch 2/30\n",
            "100/100 [==============================] - 6s 59ms/step - loss: 0.6597 - acc: 0.6150 - val_loss: 0.6379 - val_acc: 0.6800\n",
            "Epoch 3/30\n",
            "100/100 [==============================] - 6s 59ms/step - loss: 0.6221 - acc: 0.6555 - val_loss: 0.6345 - val_acc: 0.6250\n",
            "Epoch 4/30\n",
            "100/100 [==============================] - 6s 59ms/step - loss: 0.5767 - acc: 0.6980 - val_loss: 0.6271 - val_acc: 0.5950\n",
            "Epoch 5/30\n",
            "100/100 [==============================] - 6s 61ms/step - loss: 0.5394 - acc: 0.7320 - val_loss: 0.6188 - val_acc: 0.6450\n",
            "Epoch 6/30\n",
            "100/100 [==============================] - 6s 59ms/step - loss: 0.5056 - acc: 0.7550 - val_loss: 0.5857 - val_acc: 0.6900\n",
            "Epoch 7/30\n",
            "100/100 [==============================] - 6s 60ms/step - loss: 0.4878 - acc: 0.7645 - val_loss: 0.5222 - val_acc: 0.7450\n",
            "Epoch 8/30\n",
            "100/100 [==============================] - 6s 61ms/step - loss: 0.4584 - acc: 0.7835 - val_loss: 0.5961 - val_acc: 0.7100\n",
            "Epoch 9/30\n",
            "100/100 [==============================] - 6s 59ms/step - loss: 0.4276 - acc: 0.8105 - val_loss: 0.5596 - val_acc: 0.7300\n",
            "Epoch 10/30\n",
            "100/100 [==============================] - 6s 59ms/step - loss: 0.4075 - acc: 0.8090 - val_loss: 0.5323 - val_acc: 0.7500\n",
            "Epoch 11/30\n",
            "100/100 [==============================] - 6s 60ms/step - loss: 0.3753 - acc: 0.8330 - val_loss: 0.4795 - val_acc: 0.7750\n",
            "Epoch 12/30\n",
            "100/100 [==============================] - 6s 60ms/step - loss: 0.3619 - acc: 0.8465 - val_loss: 0.5249 - val_acc: 0.7350\n",
            "Epoch 13/30\n",
            "100/100 [==============================] - 6s 59ms/step - loss: 0.3259 - acc: 0.8655 - val_loss: 0.7320 - val_acc: 0.6850\n",
            "Epoch 14/30\n",
            "100/100 [==============================] - 6s 59ms/step - loss: 0.3094 - acc: 0.8790 - val_loss: 0.5456 - val_acc: 0.7200\n",
            "Epoch 15/30\n",
            "100/100 [==============================] - 6s 62ms/step - loss: 0.2841 - acc: 0.8845 - val_loss: 0.7002 - val_acc: 0.6550\n",
            "Epoch 16/30\n",
            "100/100 [==============================] - 6s 60ms/step - loss: 0.2596 - acc: 0.8935 - val_loss: 0.6546 - val_acc: 0.7200\n",
            "Epoch 17/30\n",
            "100/100 [==============================] - 6s 60ms/step - loss: 0.2381 - acc: 0.9025 - val_loss: 0.7046 - val_acc: 0.6700\n",
            "Epoch 18/30\n",
            "100/100 [==============================] - 6s 60ms/step - loss: 0.2114 - acc: 0.9155 - val_loss: 0.7087 - val_acc: 0.6700\n",
            "Epoch 19/30\n",
            "100/100 [==============================] - 6s 59ms/step - loss: 0.1936 - acc: 0.9250 - val_loss: 0.7070 - val_acc: 0.7200\n",
            "Epoch 20/30\n",
            "100/100 [==============================] - 6s 59ms/step - loss: 0.1714 - acc: 0.9430 - val_loss: 0.6046 - val_acc: 0.7650\n",
            "Epoch 21/30\n",
            "100/100 [==============================] - 6s 61ms/step - loss: 0.1474 - acc: 0.9475 - val_loss: 0.8510 - val_acc: 0.6700\n",
            "Epoch 22/30\n",
            "100/100 [==============================] - 6s 60ms/step - loss: 0.1361 - acc: 0.9580 - val_loss: 0.7179 - val_acc: 0.7700\n",
            "Epoch 23/30\n",
            "100/100 [==============================] - 6s 59ms/step - loss: 0.1153 - acc: 0.9595 - val_loss: 0.8211 - val_acc: 0.7100\n",
            "Epoch 24/30\n",
            "100/100 [==============================] - 6s 59ms/step - loss: 0.1024 - acc: 0.9665 - val_loss: 0.9270 - val_acc: 0.6700\n",
            "Epoch 25/30\n",
            "100/100 [==============================] - 6s 61ms/step - loss: 0.0863 - acc: 0.9765 - val_loss: 0.7574 - val_acc: 0.7450\n",
            "Epoch 26/30\n",
            "100/100 [==============================] - 6s 60ms/step - loss: 0.0747 - acc: 0.9785 - val_loss: 0.9569 - val_acc: 0.7000\n",
            "Epoch 27/30\n",
            "100/100 [==============================] - 6s 60ms/step - loss: 0.0590 - acc: 0.9835 - val_loss: 1.1826 - val_acc: 0.6750\n",
            "Epoch 28/30\n",
            "100/100 [==============================] - 6s 61ms/step - loss: 0.0570 - acc: 0.9830 - val_loss: 0.8958 - val_acc: 0.7150\n",
            "Epoch 29/30\n",
            "100/100 [==============================] - 6s 60ms/step - loss: 0.0449 - acc: 0.9875 - val_loss: 0.8223 - val_acc: 0.7500\n",
            "Epoch 30/30\n",
            "100/100 [==============================] - 6s 59ms/step - loss: 0.0405 - acc: 0.9905 - val_loss: 1.2119 - val_acc: 0.7100\n"
          ],
          "name": "stdout"
        }
      ]
    },
    {
      "cell_type": "code",
      "metadata": {
        "id": "MZaZ2HWZsNUi",
        "colab_type": "code",
        "outputId": "5b0d9a07-3ff0-4c67-bdf0-ccf79091b82d",
        "colab": {
          "base_uri": "https://localhost:8080/",
          "height": 545
        }
      },
      "source": [
        "model.save('cats_and_dogs_small_1.h5')\n",
        "\n",
        "import matplotlib.pyplot as plt\n",
        "\n",
        "acc = history.history['acc']\n",
        "val_acc = history.history['val_acc']\n",
        "loss = history.history['loss']\n",
        "val_loss = history.history['val_loss']\n",
        "\n",
        "epochs = range(1, len(acc) + 1)\n",
        "\n",
        "plt.plot(epochs, acc, 'bo', label='Training acc')\n",
        "plt.plot(epochs, val_acc, 'b', label='Validation acc')\n",
        "plt.title('Training and validation accuracy')\n",
        "plt.legend()\n",
        "\n",
        "plt.figure()\n",
        "\n",
        "plt.plot(epochs, loss, 'bo', label='Training loss')\n",
        "plt.plot(epochs, val_loss, 'b', label='Validation loss')\n",
        "plt.title('Training and validation loss')\n",
        "plt.legend()\n",
        "\n",
        "plt.show()"
      ],
      "execution_count": 0,
      "outputs": [
        {
          "output_type": "display_data",
          "data": {
            "image/png": "[encoded data removed]",
            "text/plain": [
              "<Figure size 432x288 with 1 Axes>"
            ]
          },
          "metadata": {
            "tags": []
          }
        },
        {
          "output_type": "display_data",
          "data": {
            "image/png": "[encoded data removed]",
            "text/plain": [
              "<Figure size 432x288 with 1 Axes>"
            ]
          },
          "metadata": {
            "tags": []
          }
        }
      ]
    },
    {
      "cell_type": "markdown",
      "metadata": {
        "id": "XKZmXmBcq_8-",
        "colab_type": "text"
      },
      "source": [
        "## Convolutional Networks with Dropout\n",
        "\n",
        "![alt text](https://camo.githubusercontent.com/ee6fa1073247cd2c3d241300caf110d7a7541bc5/68747470733a2f2f63646e2d696d616765732d312e6d656469756d2e636f6d2f6d61782f3830302f312a4972644a355067684439596f4f7956415137334d4a772e676966)\n",
        "\n",
        "Ref: https://github.com/mneha4/Training-Neural-Nets---Guidelines"
      ]
    },
    {
      "cell_type": "code",
      "metadata": {
        "id": "wu3cqeYQrDeN",
        "colab_type": "code",
        "outputId": "e49b35fc-43d2-4801-9ca7-2de41fb7d26d",
        "colab": {
          "base_uri": "https://localhost:8080/",
          "height": 102
        }
      },
      "source": [
        "model = models.Sequential()\n",
        "model.add(layers.Conv2D(32, (3, 3), activation='relu',\n",
        "input_shape=(150, 150, 3)))\n",
        "model.add(layers.MaxPooling2D((2, 2)))\n",
        "model.add(layers.Conv2D(64, (3, 3), activation='relu'))\n",
        "model.add(layers.MaxPooling2D((2, 2)))\n",
        "model.add(layers.Conv2D(128, (3, 3), activation='relu'))\n",
        "model.add(layers.MaxPooling2D((2, 2)))\n",
        "model.add(layers.Conv2D(128, (3, 3), activation='relu'))\n",
        "model.add(layers.MaxPooling2D((2, 2)))\n",
        "model.add(layers.Flatten())\n",
        "model.add(layers.Dropout(0.5))\n",
        "model.add(layers.Dense(512, activation='relu'))\n",
        "model.add(layers.Dense(1, activation='sigmoid'))\n",
        "\n",
        "model.compile(loss='binary_crossentropy',\n",
        "              optimizer=optimizers.RMSprop(lr=1e-4),\n",
        "              metrics=['acc'])"
      ],
      "execution_count": 0,
      "outputs": [
        {
          "output_type": "stream",
          "text": [
            "WARNING:tensorflow:From /usr/local/lib/python3.6/dist-packages/keras/backend/tensorflow_backend.py:148: The name tf.placeholder_with_default is deprecated. Please use tf.compat.v1.placeholder_with_default instead.\n",
            "\n",
            "WARNING:tensorflow:From /usr/local/lib/python3.6/dist-packages/keras/backend/tensorflow_backend.py:3733: calling dropout (from tensorflow.python.ops.nn_ops) with keep_prob is deprecated and will be removed in a future version.\n",
            "Instructions for updating:\n",
            "Please use `rate` instead of `keep_prob`. Rate should be set to `rate = 1 - keep_prob`.\n"
          ],
          "name": "stdout"
        }
      ]
    },
    {
      "cell_type": "code",
      "metadata": {
        "id": "QSeLpvY0rH7F",
        "colab_type": "code",
        "outputId": "ecd8cb15-0d9a-4fb4-dd7f-3281f7668cce",
        "colab": {
          "base_uri": "https://localhost:8080/",
          "height": 731
        }
      },
      "source": [
        "\n",
        "train_datagen = ImageDataGenerator(rescale=1./255,\n",
        "                                   rotation_range=40,\n",
        "                                   width_shift_range=0.2,\n",
        "                                   height_shift_range=0.2,\n",
        "                                   shear_range=0.2,\n",
        "                                   zoom_range=0.2,\n",
        "                                   horizontal_flip=True,)\n",
        "\n",
        "test_datagen = ImageDataGenerator(rescale=1./255)\n",
        "\n",
        "train_generator = train_datagen.flow_from_directory(train_dir,\n",
        "                                                    target_size=(150, 150),\n",
        "                                                    batch_size=32,\n",
        "                                                    class_mode='binary')\n",
        "\n",
        "validation_generator = test_datagen.flow_from_directory(validation_dir,\n",
        "                                                        target_size=(150, 150),\n",
        "                                                        batch_size=32,\n",
        "                                                        class_mode='binary')\n",
        "\n",
        "history = model.fit_generator(train_generator,\n",
        "                              steps_per_epoch=100,\n",
        "                              epochs=20,\n",
        "                              validation_data=validation_generator,\n",
        "                              validation_steps=50)"
      ],
      "execution_count": 0,
      "outputs": [
        {
          "output_type": "stream",
          "text": [
            "Found 2000 images belonging to 2 classes.\n",
            "Found 1000 images belonging to 2 classes.\n",
            "Epoch 1/20\n",
            "100/100 [==============================] - 28s 279ms/step - loss: 0.6934 - acc: 0.5188 - val_loss: 0.6817 - val_acc: 0.5412\n",
            "Epoch 2/20\n",
            "100/100 [==============================] - 25s 248ms/step - loss: 0.6844 - acc: 0.5597 - val_loss: 0.6628 - val_acc: 0.5986\n",
            "Epoch 3/20\n",
            "100/100 [==============================] - 26s 255ms/step - loss: 0.6674 - acc: 0.5869 - val_loss: 0.7097 - val_acc: 0.5178\n",
            "Epoch 4/20\n",
            "100/100 [==============================] - 26s 260ms/step - loss: 0.6481 - acc: 0.6253 - val_loss: 0.7367 - val_acc: 0.5419\n",
            "Epoch 5/20\n",
            "100/100 [==============================] - 24s 244ms/step - loss: 0.6338 - acc: 0.6306 - val_loss: 0.5990 - val_acc: 0.6783\n",
            "Epoch 6/20\n",
            "100/100 [==============================] - 27s 273ms/step - loss: 0.6238 - acc: 0.6503 - val_loss: 0.5760 - val_acc: 0.7081\n",
            "Epoch 7/20\n",
            "100/100 [==============================] - 25s 253ms/step - loss: 0.6037 - acc: 0.6666 - val_loss: 0.5641 - val_acc: 0.7011\n",
            "Epoch 8/20\n",
            "100/100 [==============================] - 25s 251ms/step - loss: 0.5907 - acc: 0.6859 - val_loss: 0.5483 - val_acc: 0.7146\n",
            "Epoch 9/20\n",
            "100/100 [==============================] - 25s 252ms/step - loss: 0.5801 - acc: 0.6903 - val_loss: 0.6033 - val_acc: 0.6669\n",
            "Epoch 10/20\n",
            "100/100 [==============================] - 25s 246ms/step - loss: 0.5757 - acc: 0.6928 - val_loss: 0.5792 - val_acc: 0.6770\n",
            "Epoch 11/20\n",
            "100/100 [==============================] - 26s 262ms/step - loss: 0.5740 - acc: 0.6988 - val_loss: 0.5449 - val_acc: 0.7094\n",
            "Epoch 12/20\n",
            "100/100 [==============================] - 25s 250ms/step - loss: 0.5650 - acc: 0.7175 - val_loss: 0.5225 - val_acc: 0.7278\n",
            "Epoch 13/20\n",
            "100/100 [==============================] - 25s 250ms/step - loss: 0.5531 - acc: 0.7087 - val_loss: 0.5795 - val_acc: 0.6991\n",
            "Epoch 14/20\n",
            "100/100 [==============================] - 25s 251ms/step - loss: 0.5386 - acc: 0.7275 - val_loss: 0.5322 - val_acc: 0.7176\n",
            "Epoch 15/20\n",
            "100/100 [==============================] - 25s 251ms/step - loss: 0.5478 - acc: 0.7194 - val_loss: 0.5059 - val_acc: 0.7487\n",
            "Epoch 16/20\n",
            "100/100 [==============================] - 25s 253ms/step - loss: 0.5403 - acc: 0.7269 - val_loss: 0.5542 - val_acc: 0.7062\n",
            "Epoch 17/20\n",
            "100/100 [==============================] - 23s 233ms/step - loss: 0.5276 - acc: 0.7356 - val_loss: 0.5139 - val_acc: 0.7411\n",
            "Epoch 18/20\n",
            "100/100 [==============================] - 27s 274ms/step - loss: 0.5258 - acc: 0.7372 - val_loss: 0.6284 - val_acc: 0.6682\n",
            "Epoch 19/20\n",
            "100/100 [==============================] - 25s 250ms/step - loss: 0.5294 - acc: 0.7291 - val_loss: 0.4877 - val_acc: 0.7513\n",
            "Epoch 20/20\n",
            "100/100 [==============================] - 25s 253ms/step - loss: 0.5125 - acc: 0.7506 - val_loss: 0.5036 - val_acc: 0.7526\n"
          ],
          "name": "stdout"
        }
      ]
    }
  ]
}