{
  "nbformat": 4,
  "nbformat_minor": 0,
  "metadata": {
    "colab": {
      "name": "bank_classification.ipynb",
      "provenance": [],
      "collapsed_sections": []
    },
    "kernelspec": {
      "display_name": "Python 3",
      "name": "python3"
    }
  },
  "cells": [
    {
      "cell_type": "code",
      "metadata": {
        "id": "Q99IzLzvCadX",
        "colab_type": "code",
        "colab": {}
      },
      "source": [
        "import numpy as np\n",
        "import pandas as pd\n",
        "import matplotlib as mpl\n",
        "import sklearn as skl\n",
        "from sklearn import ensemble, preprocessing\n",
        "from matplotlib import pyplot\n",
        "import seaborn as sbn"
      ],
      "execution_count": 0,
      "outputs": []
    },
    {
      "cell_type": "code",
      "metadata": {
        "id": "LxG16-YzCn2y",
        "colab_type": "code",
        "outputId": "37c387a5-9dea-4df1-94f0-92851c6b9fd5",
        "colab": {
          "base_uri": "https://localhost:8080/",
          "height": 419
        }
      },
      "source": [
        "df = pd.read_csv('https://raw.githubusercontent.com/unweariedsphere/ce888_2020/master/lab4/bank-additional-full.csv', delimiter=';')\n",
        "df"
      ],
      "execution_count": 3,
      "outputs": [
        {
          "output_type": "execute_result",
          "data": {
            "text/html": [
              "<div>\n",
              "<style scoped>\n",
              "    .dataframe tbody tr th:only-of-type {\n",
              "        vertical-align: middle;\n",
              "    }\n",
              "\n",
              "    .dataframe tbody tr th {\n",
              "        vertical-align: top;\n",
              "    }\n",
              "\n",
              "    .dataframe thead th {\n",
              "        text-align: right;\n",
              "    }\n",
              "</style>\n",
              "<table border=\"1\" class=\"dataframe\">\n",
              "  <thead>\n",
              "    <tr style=\"text-align: right;\">\n",
              "      <th></th>\n",
              "      <th>age</th>\n",
              "      <th>job</th>\n",
              "      <th>marital</th>\n",
              "      <th>education</th>\n",
              "      <th>default</th>\n",
              "      <th>housing</th>\n",
              "      <th>loan</th>\n",
              "      <th>contact</th>\n",
              "      <th>month</th>\n",
              "      <th>day_of_week</th>\n",
              "      <th>duration</th>\n",
              "      <th>campaign</th>\n",
              "      <th>pdays</th>\n",
              "      <th>previous</th>\n",
              "      <th>poutcome</th>\n",
              "      <th>emp.var.rate</th>\n",
              "      <th>cons.price.idx</th>\n",
              "      <th>cons.conf.idx</th>\n",
              "      <th>euribor3m</th>\n",
              "      <th>nr.employed</th>\n",
              "      <th>y</th>\n",
              "    </tr>\n",
              "  </thead>\n",
              "  <tbody>\n",
              "    <tr>\n",
              "      <th>0</th>\n",
              "      <td>56</td>\n",
              "      <td>housemaid</td>\n",
              "      <td>married</td>\n",
              "      <td>basic.4y</td>\n",
              "      <td>no</td>\n",
              "      <td>no</td>\n",
              "      <td>no</td>\n",
              "      <td>telephone</td>\n",
              "      <td>may</td>\n",
              "      <td>mon</td>\n",
              "      <td>261</td>\n",
              "      <td>1</td>\n",
              "      <td>999</td>\n",
              "      <td>0</td>\n",
              "      <td>nonexistent</td>\n",
              "      <td>1.1</td>\n",
              "      <td>93.994</td>\n",
              "      <td>-36.4</td>\n",
              "      <td>4.857</td>\n",
              "      <td>5191.0</td>\n",
              "      <td>no</td>\n",
              "    </tr>\n",
              "    <tr>\n",
              "      <th>1</th>\n",
              "      <td>57</td>\n",
              "      <td>services</td>\n",
              "      <td>married</td>\n",
              "      <td>high.school</td>\n",
              "      <td>unknown</td>\n",
              "      <td>no</td>\n",
              "      <td>no</td>\n",
              "      <td>telephone</td>\n",
              "      <td>may</td>\n",
              "      <td>mon</td>\n",
              "      <td>149</td>\n",
              "      <td>1</td>\n",
              "      <td>999</td>\n",
              "      <td>0</td>\n",
              "      <td>nonexistent</td>\n",
              "      <td>1.1</td>\n",
              "      <td>93.994</td>\n",
              "      <td>-36.4</td>\n",
              "      <td>4.857</td>\n",
              "      <td>5191.0</td>\n",
              "      <td>no</td>\n",
              "    </tr>\n",
              "    <tr>\n",
              "      <th>2</th>\n",
              "      <td>37</td>\n",
              "      <td>services</td>\n",
              "      <td>married</td>\n",
              "      <td>high.school</td>\n",
              "      <td>no</td>\n",
              "      <td>yes</td>\n",
              "      <td>no</td>\n",
              "      <td>telephone</td>\n",
              "      <td>may</td>\n",
              "      <td>mon</td>\n",
              "      <td>226</td>\n",
              "      <td>1</td>\n",
              "      <td>999</td>\n",
              "      <td>0</td>\n",
              "      <td>nonexistent</td>\n",
              "      <td>1.1</td>\n",
              "      <td>93.994</td>\n",
              "      <td>-36.4</td>\n",
              "      <td>4.857</td>\n",
              "      <td>5191.0</td>\n",
              "      <td>no</td>\n",
              "    </tr>\n",
              "    <tr>\n",
              "      <th>3</th>\n",
              "      <td>40</td>\n",
              "      <td>admin.</td>\n",
              "      <td>married</td>\n",
              "      <td>basic.6y</td>\n",
              "      <td>no</td>\n",
              "      <td>no</td>\n",
              "      <td>no</td>\n",
              "      <td>telephone</td>\n",
              "      <td>may</td>\n",
              "      <td>mon</td>\n",
              "      <td>151</td>\n",
              "      <td>1</td>\n",
              "      <td>999</td>\n",
              "      <td>0</td>\n",
              "      <td>nonexistent</td>\n",
              "      <td>1.1</td>\n",
              "      <td>93.994</td>\n",
              "      <td>-36.4</td>\n",
              "      <td>4.857</td>\n",
              "      <td>5191.0</td>\n",
              "      <td>no</td>\n",
              "    </tr>\n",
              "    <tr>\n",
              "      <th>4</th>\n",
              "      <td>56</td>\n",
              "      <td>services</td>\n",
              "      <td>married</td>\n",
              "      <td>high.school</td>\n",
              "      <td>no</td>\n",
              "      <td>no</td>\n",
              "      <td>yes</td>\n",
              "      <td>telephone</td>\n",
              "      <td>may</td>\n",
              "      <td>mon</td>\n",
              "      <td>307</td>\n",
              "      <td>1</td>\n",
              "      <td>999</td>\n",
              "      <td>0</td>\n",
              "      <td>nonexistent</td>\n",
              "      <td>1.1</td>\n",
              "      <td>93.994</td>\n",
              "      <td>-36.4</td>\n",
              "      <td>4.857</td>\n",
              "      <td>5191.0</td>\n",
              "      <td>no</td>\n",
              "    </tr>\n",
              "    <tr>\n",
              "      <th>...</th>\n",
              "      <td>...</td>\n",
              "      <td>...</td>\n",
              "      <td>...</td>\n",
              "      <td>...</td>\n",
              "      <td>...</td>\n",
              "      <td>...</td>\n",
              "      <td>...</td>\n",
              "      <td>...</td>\n",
              "      <td>...</td>\n",
              "      <td>...</td>\n",
              "      <td>...</td>\n",
              "      <td>...</td>\n",
              "      <td>...</td>\n",
              "      <td>...</td>\n",
              "      <td>...</td>\n",
              "      <td>...</td>\n",
              "      <td>...</td>\n",
              "      <td>...</td>\n",
              "      <td>...</td>\n",
              "      <td>...</td>\n",
              "      <td>...</td>\n",
              "    </tr>\n",
              "    <tr>\n",
              "      <th>41183</th>\n",
              "      <td>73</td>\n",
              "      <td>retired</td>\n",
              "      <td>married</td>\n",
              "      <td>professional.course</td>\n",
              "      <td>no</td>\n",
              "      <td>yes</td>\n",
              "      <td>no</td>\n",
              "      <td>cellular</td>\n",
              "      <td>nov</td>\n",
              "      <td>fri</td>\n",
              "      <td>334</td>\n",
              "      <td>1</td>\n",
              "      <td>999</td>\n",
              "      <td>0</td>\n",
              "      <td>nonexistent</td>\n",
              "      <td>-1.1</td>\n",
              "      <td>94.767</td>\n",
              "      <td>-50.8</td>\n",
              "      <td>1.028</td>\n",
              "      <td>4963.6</td>\n",
              "      <td>yes</td>\n",
              "    </tr>\n",
              "    <tr>\n",
              "      <th>41184</th>\n",
              "      <td>46</td>\n",
              "      <td>blue-collar</td>\n",
              "      <td>married</td>\n",
              "      <td>professional.course</td>\n",
              "      <td>no</td>\n",
              "      <td>no</td>\n",
              "      <td>no</td>\n",
              "      <td>cellular</td>\n",
              "      <td>nov</td>\n",
              "      <td>fri</td>\n",
              "      <td>383</td>\n",
              "      <td>1</td>\n",
              "      <td>999</td>\n",
              "      <td>0</td>\n",
              "      <td>nonexistent</td>\n",
              "      <td>-1.1</td>\n",
              "      <td>94.767</td>\n",
              "      <td>-50.8</td>\n",
              "      <td>1.028</td>\n",
              "      <td>4963.6</td>\n",
              "      <td>no</td>\n",
              "    </tr>\n",
              "    <tr>\n",
              "      <th>41185</th>\n",
              "      <td>56</td>\n",
              "      <td>retired</td>\n",
              "      <td>married</td>\n",
              "      <td>university.degree</td>\n",
              "      <td>no</td>\n",
              "      <td>yes</td>\n",
              "      <td>no</td>\n",
              "      <td>cellular</td>\n",
              "      <td>nov</td>\n",
              "      <td>fri</td>\n",
              "      <td>189</td>\n",
              "      <td>2</td>\n",
              "      <td>999</td>\n",
              "      <td>0</td>\n",
              "      <td>nonexistent</td>\n",
              "      <td>-1.1</td>\n",
              "      <td>94.767</td>\n",
              "      <td>-50.8</td>\n",
              "      <td>1.028</td>\n",
              "      <td>4963.6</td>\n",
              "      <td>no</td>\n",
              "    </tr>\n",
              "    <tr>\n",
              "      <th>41186</th>\n",
              "      <td>44</td>\n",
              "      <td>technician</td>\n",
              "      <td>married</td>\n",
              "      <td>professional.course</td>\n",
              "      <td>no</td>\n",
              "      <td>no</td>\n",
              "      <td>no</td>\n",
              "      <td>cellular</td>\n",
              "      <td>nov</td>\n",
              "      <td>fri</td>\n",
              "      <td>442</td>\n",
              "      <td>1</td>\n",
              "      <td>999</td>\n",
              "      <td>0</td>\n",
              "      <td>nonexistent</td>\n",
              "      <td>-1.1</td>\n",
              "      <td>94.767</td>\n",
              "      <td>-50.8</td>\n",
              "      <td>1.028</td>\n",
              "      <td>4963.6</td>\n",
              "      <td>yes</td>\n",
              "    </tr>\n",
              "    <tr>\n",
              "      <th>41187</th>\n",
              "      <td>74</td>\n",
              "      <td>retired</td>\n",
              "      <td>married</td>\n",
              "      <td>professional.course</td>\n",
              "      <td>no</td>\n",
              "      <td>yes</td>\n",
              "      <td>no</td>\n",
              "      <td>cellular</td>\n",
              "      <td>nov</td>\n",
              "      <td>fri</td>\n",
              "      <td>239</td>\n",
              "      <td>3</td>\n",
              "      <td>999</td>\n",
              "      <td>1</td>\n",
              "      <td>failure</td>\n",
              "      <td>-1.1</td>\n",
              "      <td>94.767</td>\n",
              "      <td>-50.8</td>\n",
              "      <td>1.028</td>\n",
              "      <td>4963.6</td>\n",
              "      <td>no</td>\n",
              "    </tr>\n",
              "  </tbody>\n",
              "</table>\n",
              "<p>41188 rows × 21 columns</p>\n",
              "</div>"
            ],
            "text/plain": [
              "       age          job  marital  ... euribor3m nr.employed    y\n",
              "0       56    housemaid  married  ...     4.857      5191.0   no\n",
              "1       57     services  married  ...     4.857      5191.0   no\n",
              "2       37     services  married  ...     4.857      5191.0   no\n",
              "3       40       admin.  married  ...     4.857      5191.0   no\n",
              "4       56     services  married  ...     4.857      5191.0   no\n",
              "...    ...          ...      ...  ...       ...         ...  ...\n",
              "41183   73      retired  married  ...     1.028      4963.6  yes\n",
              "41184   46  blue-collar  married  ...     1.028      4963.6   no\n",
              "41185   56      retired  married  ...     1.028      4963.6   no\n",
              "41186   44   technician  married  ...     1.028      4963.6  yes\n",
              "41187   74      retired  married  ...     1.028      4963.6   no\n",
              "\n",
              "[41188 rows x 21 columns]"
            ]
          },
          "metadata": {
            "tags": []
          },
          "execution_count": 3
        }
      ]
    },
    {
      "cell_type": "code",
      "metadata": {
        "id": "OoNB8aTIE6yG",
        "colab_type": "code",
        "outputId": "eeec0ded-b11c-469e-8357-4a86774b63ec",
        "colab": {
          "base_uri": "https://localhost:8080/",
          "height": 296
        }
      },
      "source": [
        "df_dummies = pd.get_dummies(df)\n",
        "\n",
        "#drop duration column and all rows where y=no\n",
        "try:\n",
        "    df_dummies = df_dummies.drop(columns='duration') #throws exception if no \"duration\" column exists\n",
        "    df_dummies = df_dummies.drop(columns='y_no') #throws exception if no \"y_no\" column exists\n",
        "except:\n",
        "    print() #python doesn't allow empty catch blocks so an empty print call is placed here\n",
        "\n",
        "#textvars = ['job', 'marital', 'education', 'default', 'housing', 'loan', 'contact', 'month', 'day_of_week', 'poutcome', 'y']\n",
        "#df[textvars] = df[textvars].apply(preprocessing.LabelEncoder().fit_transform)\n",
        "\n",
        "\n",
        "x = df_dummies.copy()\n",
        "del x['y_yes'] #drop the y_yes column from the training data\n",
        "y = df_dummies['y_yes']\n",
        "\n",
        "sbn.distplot(y, hist=True)"
      ],
      "execution_count": 4,
      "outputs": [
        {
          "output_type": "execute_result",
          "data": {
            "text/plain": [
              "<matplotlib.axes._subplots.AxesSubplot at 0x7f109f127e48>"
            ]
          },
          "metadata": {
            "tags": []
          },
          "execution_count": 4
        },
        {
          "output_type": "display_data",
          "data": {
            "image/png": "[encoded data removed]",
            "text/plain": [
              "<Figure size 432x288 with 1 Axes>"
            ]
          },
          "metadata": {
            "tags": []
          }
        }
      ]
    },
    {
      "cell_type": "code",
      "metadata": {
        "id": "FjkSR1NugM-p",
        "colab_type": "code",
        "outputId": "b1fbf475-9863-481f-d498-83c2e6b37a5b",
        "colab": {
          "base_uri": "https://localhost:8080/",
          "height": 153
        }
      },
      "source": [
        "etc = skl.ensemble.ExtraTreesClassifier(n_estimators=100)\n",
        "etc.fit(x,y)"
      ],
      "execution_count": 5,
      "outputs": [
        {
          "output_type": "execute_result",
          "data": {
            "text/plain": [
              "ExtraTreesClassifier(bootstrap=False, ccp_alpha=0.0, class_weight=None,\n",
              "                     criterion='gini', max_depth=None, max_features='auto',\n",
              "                     max_leaf_nodes=None, max_samples=None,\n",
              "                     min_impurity_decrease=0.0, min_impurity_split=None,\n",
              "                     min_samples_leaf=1, min_samples_split=2,\n",
              "                     min_weight_fraction_leaf=0.0, n_estimators=100,\n",
              "                     n_jobs=None, oob_score=False, random_state=None, verbose=0,\n",
              "                     warm_start=False)"
            ]
          },
          "metadata": {
            "tags": []
          },
          "execution_count": 5
        }
      ]
    },
    {
      "cell_type": "code",
      "metadata": {
        "id": "Bix-t9vEgPUi",
        "colab_type": "code",
        "colab": {}
      },
      "source": [
        "y_pred = etc.predict(x)"
      ],
      "execution_count": 0,
      "outputs": []
    },
    {
      "cell_type": "code",
      "metadata": {
        "id": "g_H_I_hlgRy2",
        "colab_type": "code",
        "colab": {}
      },
      "source": [
        "scores = skl.model_selection.cross_val_score(etc, x, y, cv=10, scoring='neg_mean_squared_error')"
      ],
      "execution_count": 0,
      "outputs": []
    },
    {
      "cell_type": "code",
      "metadata": {
        "id": "Orw25ZcugoMq",
        "colab_type": "code",
        "outputId": "dda12842-24fd-482b-b02b-db2d7b9cd6fb",
        "colab": {
          "base_uri": "https://localhost:8080/",
          "height": 119
        }
      },
      "source": [
        "np.set_printoptions(3)\n",
        "\n",
        "dummy_alg = skl.dummy.DummyRegressor(strategy='mean') \n",
        "dummy_alg_scores = skl.model_selection.cross_val_score(dummy_alg, x, y, cv=10, scoring='neg_mean_squared_error')\n",
        "print(\"validation fold mean squared errors:\")\n",
        "results = scores * -1 #convert negative MSEs to positve ones\n",
        "print(results)\n",
        "print(\"Mean Score = \" + str(np.mean(results)) + \"; Std. Dev. = \" + str(np.std(results)))\n",
        "print(\"dummy alg cross validation mean squared errors:\")\n",
        "print(dummy_alg_scores * -1)\n",
        "dummy_results = dummy_alg_scores * -1\n",
        "print(\"Mean Score = \" + str(np.mean(dummy_results)) + \"; Std. Dev. = \" + str(np.std(dummy_results)))"
      ],
      "execution_count": 8,
      "outputs": [
        {
          "output_type": "stream",
          "text": [
            "validation fold mean squared errors:\n",
            "[0.113 0.139 0.681 0.234 0.259 0.579 0.663 0.838 0.539 0.738]\n",
            "Mean Score = 0.47820532457118076; Std. Dev. = 0.25349920294855866\n",
            "dummy alg cross validation mean squared errors:\n",
            "[0.036 0.041 0.047 0.065 0.062 0.056 0.092 0.105 0.135 0.397]\n",
            "Mean Score = 0.10345690219481214; Std. Dev. = 0.10218101469110678\n"
          ],
          "name": "stdout"
        }
      ]
    },
    {
      "cell_type": "code",
      "metadata": {
        "id": "0M46LVAqtNUU",
        "colab_type": "code",
        "outputId": "c7ba1a4e-89ec-4164-fa28-4966a9b1cf65",
        "colab": {
          "base_uri": "https://localhost:8080/",
          "height": 1000
        }
      },
      "source": [
        "#get the algorithm's assigned importance of each feature\n",
        "imps = etc.feature_importances_\n",
        "#create array containing the standard deviations for each feature importance measure\n",
        "imp_stds = np.std([tree.feature_importances_ for tree in etc], axis=0)\n",
        "#get the index of each feature\n",
        "imp_inds = np.argsort(imps)[::-1]\n",
        "\n",
        "feature_list = list(df_dummies)\n",
        "print(\"Feature rankings:\")\n",
        "for i in range(df_dummies.shape[1] - 1):\n",
        "    print(\"Rank: \" + str(i) + \" \\tImportance Score: \" + str(imps[imp_inds[i]]) + \"\\tStd.Dev.: \" + str(imp_stds[i]) + \"\\tFeature: \" + feature_list[i])"
      ],
      "execution_count": 9,
      "outputs": [
        {
          "output_type": "stream",
          "text": [
            "Feature rankings:\n",
            "Rank: 0 \tImportance Score: 0.1554508916531402\tStd.Dev.: 0.004822647767338512\tFeature: age\n",
            "Rank: 1 \tImportance Score: 0.10522892683551258\tStd.Dev.: 0.00363219024283186\tFeature: campaign\n",
            "Rank: 2 \tImportance Score: 0.10079472505549297\tStd.Dev.: 0.03979636968844363\tFeature: pdays\n",
            "Rank: 3 \tImportance Score: 0.040531261777542946\tStd.Dev.: 0.006130517349087508\tFeature: previous\n",
            "Rank: 4 \tImportance Score: 0.03422132804108247\tStd.Dev.: 0.02696120025153588\tFeature: emp.var.rate\n",
            "Rank: 5 \tImportance Score: 0.03076650359417764\tStd.Dev.: 0.01373782115467754\tFeature: cons.price.idx\n",
            "Rank: 6 \tImportance Score: 0.024863443797180772\tStd.Dev.: 0.016588488081779804\tFeature: cons.conf.idx\n",
            "Rank: 7 \tImportance Score: 0.020782603646516785\tStd.Dev.: 0.0353393338135593\tFeature: euribor3m\n",
            "Rank: 8 \tImportance Score: 0.02046980346015563\tStd.Dev.: 0.027802978526284123\tFeature: nr.employed\n",
            "Rank: 9 \tImportance Score: 0.018373914782313476\tStd.Dev.: 0.0028561297489336016\tFeature: job_admin.\n",
            "Rank: 10 \tImportance Score: 0.016982215087456957\tStd.Dev.: 0.0017318824687749478\tFeature: job_blue-collar\n",
            "Rank: 11 \tImportance Score: 0.016623796754889016\tStd.Dev.: 0.0010505797872366952\tFeature: job_entrepreneur\n",
            "Rank: 12 \tImportance Score: 0.016181833688998445\tStd.Dev.: 0.0007854206130772144\tFeature: job_housemaid\n",
            "Rank: 13 \tImportance Score: 0.015672402288386372\tStd.Dev.: 0.0012992942897290932\tFeature: job_management\n",
            "Rank: 14 \tImportance Score: 0.015443405435946925\tStd.Dev.: 0.0013458362807768072\tFeature: job_retired\n",
            "Rank: 15 \tImportance Score: 0.015051346030232964\tStd.Dev.: 0.0009192643787663135\tFeature: job_self-employed\n",
            "Rank: 16 \tImportance Score: 0.014839847779529864\tStd.Dev.: 0.0016273884338335407\tFeature: job_services\n",
            "Rank: 17 \tImportance Score: 0.014801220795157848\tStd.Dev.: 0.0012363531935490023\tFeature: job_student\n",
            "Rank: 18 \tImportance Score: 0.014527164383457167\tStd.Dev.: 0.0017251524678915035\tFeature: job_technician\n",
            "Rank: 19 \tImportance Score: 0.014225070595624665\tStd.Dev.: 0.0008333901926824212\tFeature: job_unemployed\n",
            "Rank: 20 \tImportance Score: 0.014142204366220901\tStd.Dev.: 0.00043844164805626807\tFeature: job_unknown\n",
            "Rank: 21 \tImportance Score: 0.014094902654091275\tStd.Dev.: 0.0019325864911594315\tFeature: marital_divorced\n",
            "Rank: 22 \tImportance Score: 0.013946422639990907\tStd.Dev.: 0.003335478138967328\tFeature: marital_married\n",
            "Rank: 23 \tImportance Score: 0.01367379573230684\tStd.Dev.: 0.003111359179443766\tFeature: marital_single\n",
            "Rank: 24 \tImportance Score: 0.011720640590296516\tStd.Dev.: 0.0002619297903194559\tFeature: marital_unknown\n",
            "Rank: 25 \tImportance Score: 0.011280786159372265\tStd.Dev.: 0.0012345869562851734\tFeature: education_basic.4y\n",
            "Rank: 26 \tImportance Score: 0.011234827756157282\tStd.Dev.: 0.0011502620883690764\tFeature: education_basic.6y\n",
            "Rank: 27 \tImportance Score: 0.011229727963274394\tStd.Dev.: 0.0014009443537341519\tFeature: education_basic.9y\n",
            "Rank: 28 \tImportance Score: 0.010924722484527739\tStd.Dev.: 0.0017325414025829858\tFeature: education_high.school\n",
            "Rank: 29 \tImportance Score: 0.010574156640927146\tStd.Dev.: 0.0001168046096156118\tFeature: education_illiterate\n",
            "Rank: 30 \tImportance Score: 0.009367134693129607\tStd.Dev.: 0.001631773464748444\tFeature: education_professional.course\n",
            "Rank: 31 \tImportance Score: 0.00934660990525933\tStd.Dev.: 0.003398302382003407\tFeature: education_university.degree\n",
            "Rank: 32 \tImportance Score: 0.008853950124251652\tStd.Dev.: 0.001162808682683133\tFeature: education_unknown\n",
            "Rank: 33 \tImportance Score: 0.00872659230027934\tStd.Dev.: 0.002836779447477678\tFeature: default_no\n",
            "Rank: 34 \tImportance Score: 0.008436374513605665\tStd.Dev.: 0.0029562601297058832\tFeature: default_unknown\n",
            "Rank: 35 \tImportance Score: 0.008211194769488523\tStd.Dev.: 4.856376853300652e-06\tFeature: default_yes\n",
            "Rank: 36 \tImportance Score: 0.008179932538951627\tStd.Dev.: 0.002642300548077649\tFeature: housing_no\n",
            "Rank: 37 \tImportance Score: 0.00747180106095492\tStd.Dev.: 0.000614440711741539\tFeature: housing_unknown\n",
            "Rank: 38 \tImportance Score: 0.007291013667600163\tStd.Dev.: 0.002400693994664037\tFeature: housing_yes\n",
            "Rank: 39 \tImportance Score: 0.006943466734210923\tStd.Dev.: 0.0017511307716987765\tFeature: loan_no\n",
            "Rank: 40 \tImportance Score: 0.006780368499058806\tStd.Dev.: 0.0005715629607602265\tFeature: loan_unknown\n",
            "Rank: 41 \tImportance Score: 0.006718998872443467\tStd.Dev.: 0.0015702872842462093\tFeature: loan_yes\n",
            "Rank: 42 \tImportance Score: 0.006704345457738248\tStd.Dev.: 0.005438250445447204\tFeature: contact_cellular\n",
            "Rank: 43 \tImportance Score: 0.00656455166683002\tStd.Dev.: 0.006819995115280048\tFeature: contact_telephone\n",
            "Rank: 44 \tImportance Score: 0.006254308349070304\tStd.Dev.: 0.003636776673544685\tFeature: month_apr\n",
            "Rank: 45 \tImportance Score: 0.005983597759272909\tStd.Dev.: 0.0014200760315023228\tFeature: month_aug\n",
            "Rank: 46 \tImportance Score: 0.00566767626260601\tStd.Dev.: 0.0014078463899606015\tFeature: month_dec\n",
            "Rank: 47 \tImportance Score: 0.005484361145557674\tStd.Dev.: 0.002977438081097155\tFeature: month_jul\n",
            "Rank: 48 \tImportance Score: 0.0048497516701245\tStd.Dev.: 0.003156545085065354\tFeature: month_jun\n",
            "Rank: 49 \tImportance Score: 0.00463587068582896\tStd.Dev.: 0.0056634599432879495\tFeature: month_mar\n",
            "Rank: 50 \tImportance Score: 0.00452862407882787\tStd.Dev.: 0.011959455592137425\tFeature: month_may\n",
            "Rank: 51 \tImportance Score: 0.003792116751009094\tStd.Dev.: 0.003574948991147302\tFeature: month_nov\n",
            "Rank: 52 \tImportance Score: 0.0037688972215372\tStd.Dev.: 0.004343177875079778\tFeature: month_oct\n",
            "Rank: 53 \tImportance Score: 0.0035035192225018412\tStd.Dev.: 0.003412214595859769\tFeature: month_sep\n",
            "Rank: 54 \tImportance Score: 0.0032420048686082814\tStd.Dev.: 0.0019844360463540833\tFeature: day_of_week_fri\n",
            "Rank: 55 \tImportance Score: 0.002589000622650691\tStd.Dev.: 0.002476820747407053\tFeature: day_of_week_mon\n",
            "Rank: 56 \tImportance Score: 0.002464294335953946\tStd.Dev.: 0.0024673494432541007\tFeature: day_of_week_thu\n",
            "Rank: 57 \tImportance Score: 0.0023890445163143904\tStd.Dev.: 0.001902750704360989\tFeature: day_of_week_tue\n",
            "Rank: 58 \tImportance Score: 0.001556410611522869\tStd.Dev.: 0.0019354437044875454\tFeature: day_of_week_wed\n",
            "Rank: 59 \tImportance Score: 0.0007984380569768439\tStd.Dev.: 0.009327818187619862\tFeature: poutcome_failure\n",
            "Rank: 60 \tImportance Score: 0.00023987957431148148\tStd.Dev.: 0.009781524460475498\tFeature: poutcome_nonexistent\n",
            "Rank: 61 \tImportance Score: 1.9769935619325665e-06\tStd.Dev.: 0.037289945591545706\tFeature: poutcome_success\n"
          ],
          "name": "stdout"
        }
      ]
    },
    {
      "cell_type": "code",
      "metadata": {
        "id": "HbS5hq7cujzC",
        "colab_type": "code",
        "outputId": "b2aea130-1106-4ef3-e1dc-dcaf82d788b2",
        "colab": {
          "base_uri": "https://localhost:8080/",
          "height": 282
        }
      },
      "source": [
        "import matplotlib.pyplot as plt\n",
        "importance_figure = plt.figure()\n",
        "plt.bar(range(df_dummies.shape[1] - 1), imps[imp_inds], color=\"g\", yerr=imp_stds[imp_inds], align=\"center\")"
      ],
      "execution_count": 10,
      "outputs": [
        {
          "output_type": "execute_result",
          "data": {
            "text/plain": [
              "<BarContainer object of 62 artists>"
            ]
          },
          "metadata": {
            "tags": []
          },
          "execution_count": 10
        },
        {
          "output_type": "display_data",
          "data": {
            "image/png": "[encoded data removed]",
            "text/plain": [
              "<Figure size 432x288 with 1 Axes>"
            ]
          },
          "metadata": {
            "tags": []
          }
        }
      ]
    },
    {
      "cell_type": "code",
      "metadata": {
        "id": "GQqu36Zq5Gw9",
        "colab_type": "code",
        "colab": {
          "base_uri": "https://localhost:8080/",
          "height": 282
        },
        "outputId": "cd1e74c3-3b6b-4573-f758-ccfd01696ade"
      },
      "source": [
        "import seaborn\n",
        "cnf_matrix = skl.metrics.confusion_matrix(y, y_pred) #get confusion matrix from tree classifier\n",
        "seaborn.heatmap(cnf_matrix) #print confusion matrix as a seaborn heatmap"
      ],
      "execution_count": 11,
      "outputs": [
        {
          "output_type": "execute_result",
          "data": {
            "text/plain": [
              "<matplotlib.axes._subplots.AxesSubplot at 0x7f109e99cda0>"
            ]
          },
          "metadata": {
            "tags": []
          },
          "execution_count": 11
        },
        {
          "output_type": "display_data",
          "data": {
            "image/png": "[encoded data removed]",
            "text/plain": [
              "<Figure size 432x288 with 2 Axes>"
            ]
          },
          "metadata": {
            "tags": []
          }
        }
      ]
    }
  ]
}